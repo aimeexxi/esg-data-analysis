{
 "cells": [
  {
   "cell_type": "markdown",
   "metadata": {},
   "source": [
    "## Table of Contents\n",
    "* [Section A: Libraries list](#Section_1)\n",
    "* [Section B: Main Dataframe](#Section_2)\n",
    "* [Section C: Filter Dataframe](#Section_3)\n",
    "    * [Non Node Filters](#Section_31)\n",
    "    * [Node Filters](#Section_32)\n",
    "    * [Numeric Filters](#Section_33)\n",
    "* [Section D: Subset Dataframe](#Section_4)\n",
    "* [Section E: KG Set Up](#Section_5) \n",
    "    * [Creating Unique Lists](#Section_51)\n",
    "    * [Coloring nodes based on no. of connections](#Section_52)"
   ]
  },
  {
   "cell_type": "markdown",
   "metadata": {},
   "source": [
    "## Libraries <a class=\"anchor\" id=\"Section_1\"></a>"
   ]
  },
  {
   "cell_type": "code",
   "execution_count": 1,
   "metadata": {},
   "outputs": [],
   "source": [
    "#Importing Libraries\n",
    "import glob\n",
    "import numpy as np \n",
    "import pandas as pd \n",
    "import matplotlib.pyplot as plt \n",
    "%matplotlib inline\n",
    "import seaborn as sns\n",
    "import warnings; \n",
    "from sklearn.preprocessing import LabelEncoder\n",
    "import missingno as msno\n",
    "import networkx as nx\n",
    "from plotly.offline import download_plotlyjs, init_notebook_mode, iplot\n",
    "import plotly.graph_objs as go\n",
    "from plotly.validators.scatter.marker import SymbolValidator\n",
    "import matplotlib.pyplot as plt \n",
    "%matplotlib inline\n",
    "import seaborn as sns\n",
    "\n",
    "\n",
    "import plotly"
   ]
  },
  {
   "cell_type": "markdown",
   "metadata": {},
   "source": [
    "## Main Dataframe <a class=\"anchor\" id=\"Section_2\"></a>"
   ]
  },
  {
   "cell_type": "markdown",
   "metadata": {},
   "source": [
    "### Accern dataset"
   ]
  },
  {
   "cell_type": "code",
   "execution_count": 2,
   "metadata": {},
   "outputs": [],
   "source": [
    "#Full dataset\n",
    "data_file = 'columbia_capstone_fall2020_esg.csv'\n",
    "data = pd.read_csv(data_file, parse_dates = ['crawled_at','harvested_at','published_at'])"
   ]
  },
  {
   "cell_type": "code",
   "execution_count": 3,
   "metadata": {},
   "outputs": [],
   "source": [
    "#Key variables needed in dataset\n",
    "data = data[['published_at','entity_name','entity_region','entity_sector','entity_ticker','event_group','event','doc_id','doc_title','doc_source','doc_type','entity_country','entity_relevance','entity_sentiment','event_relevance','doc_sentiment','event_sentiment','signal_id','signal_relevance','signal_sentiment']]"
   ]
  },
  {
   "cell_type": "code",
   "execution_count": 4,
   "metadata": {},
   "outputs": [],
   "source": [
    "data = data.fillna(\"None\")"
   ]
  },
  {
   "cell_type": "code",
   "execution_count": 5,
   "metadata": {},
   "outputs": [
    {
     "name": "stdout",
     "output_type": "stream",
     "text": [
      "<class 'pandas.core.frame.DataFrame'>\n",
      "RangeIndex: 554606 entries, 0 to 554605\n",
      "Data columns (total 20 columns):\n",
      "published_at        554606 non-null datetime64[ns]\n",
      "entity_name         554606 non-null object\n",
      "entity_region       554606 non-null object\n",
      "entity_sector       554606 non-null object\n",
      "entity_ticker       554606 non-null object\n",
      "event_group         554606 non-null object\n",
      "event               554606 non-null object\n",
      "doc_id              554606 non-null object\n",
      "doc_title           554606 non-null object\n",
      "doc_source          554606 non-null object\n",
      "doc_type            554606 non-null object\n",
      "entity_country      554606 non-null object\n",
      "entity_relevance    554606 non-null float64\n",
      "entity_sentiment    554606 non-null float64\n",
      "event_relevance     554606 non-null float64\n",
      "doc_sentiment       554606 non-null float64\n",
      "event_sentiment     554606 non-null float64\n",
      "signal_id           554606 non-null object\n",
      "signal_relevance    554606 non-null float64\n",
      "signal_sentiment    554606 non-null float64\n",
      "dtypes: datetime64[ns](1), float64(7), object(12)\n",
      "memory usage: 84.6+ MB\n"
     ]
    }
   ],
   "source": [
    "data['published_at'] = data['published_at'].dt.date\n",
    "data['published_at'] =  pd.to_datetime(data['published_at'], format='%Y-%m-%d')\n",
    "data.info()"
   ]
  },
  {
   "cell_type": "code",
   "execution_count": 6,
   "metadata": {},
   "outputs": [
    {
     "data": {
      "text/plain": [
       "published_at           292\n",
       "entity_name           7090\n",
       "entity_region            8\n",
       "entity_sector           20\n",
       "entity_ticker         6835\n",
       "event_group              3\n",
       "event                   23\n",
       "doc_id              391180\n",
       "doc_title           261420\n",
       "doc_source           31490\n",
       "doc_type                 2\n",
       "entity_country          57\n",
       "entity_relevance      7431\n",
       "entity_sentiment     59443\n",
       "event_relevance       1113\n",
       "doc_sentiment       182314\n",
       "event_sentiment      38702\n",
       "signal_id           554606\n",
       "signal_relevance     19381\n",
       "signal_sentiment    138004\n",
       "dtype: int64"
      ]
     },
     "execution_count": 6,
     "metadata": {},
     "output_type": "execute_result"
    }
   ],
   "source": [
    "data.nunique()"
   ]
  },
  {
   "cell_type": "markdown",
   "metadata": {},
   "source": [
    "## Filter Dataframe<a class=\"anchor\" id=\"Section_3\"></a>"
   ]
  },
  {
   "cell_type": "markdown",
   "metadata": {},
   "source": [
    "#### Non-Node filters<a class=\"anchor\" id=\"Section_31\"></a>"
   ]
  },
  {
   "cell_type": "code",
   "execution_count": 7,
   "metadata": {},
   "outputs": [],
   "source": [
    "eg_list = data['event_group'] #['Social','Environment']\n",
    "region_list = data['entity_region'] #['Americas','Europe'] \n",
    "country_list = data['entity_country'] #['','']\n",
    "doctype_list = data['doc_type'] #['news'] \n",
    "source_list = data['doc_source'] #doc_source\n",
    "#published_at\n",
    "p_startdate = '2020-01-01' #data['published_at'].min()\n",
    "p_enddate = data['published_at'].max() #'2020-01-04'"
   ]
  },
  {
   "cell_type": "markdown",
   "metadata": {},
   "source": [
    "#### Node filters<a class=\"anchor\" id=\"Section_32\"></a>"
   ]
  },
  {
   "cell_type": "code",
   "execution_count": 8,
   "metadata": {},
   "outputs": [],
   "source": [
    "#OR LISTS (e.g. amazon or apple / data security or water waste)\n",
    "entity_list = data['entity_name'] #['BOMBARDIER INC-A','Apple Inc']\n",
    "event_list = data['event'] #['Environment - Water Waste Management - SASB','Environment - Energy Management - SASB']\n",
    "sector_list = data['entity_sector'] #['','']\n",
    "doc_list = data['doc_title'] #['']"
   ]
  },
  {
   "cell_type": "code",
   "execution_count": 9,
   "metadata": {
    "scrolled": true
   },
   "outputs": [],
   "source": [
    "#AND FILTERS (e.g. these events AND these sectors, etc)\n",
    "data_filter = data[(data['event_group'].isin(eg_list)) &\\\n",
    "                   (data['entity_region'].isin(region_list)) &\\\n",
    "                  (data['entity_country'].isin(country_list)) &\\\n",
    "                  (data['doc_type'].isin(doctype_list)) &\\\n",
    "                  (data['doc_source'].isin(source_list)) &\\\n",
    "                  (data['published_at'] >= p_startdate) & (data['published_at'] <= p_enddate) &\\\n",
    "                      #node filters\n",
    "                   (data['event'].isin(event_list)) &\\\n",
    "                  (data['entity_sector'].isin(sector_list)) &\\\n",
    "                   (data['entity_name'].isin(entity_list)) &\\\n",
    "                   (data['doc_title'].isin(doc_list))] "
   ]
  },
  {
   "cell_type": "markdown",
   "metadata": {},
   "source": [
    "## Subset dataframe<a class=\"anchor\" id=\"Section_4\"></a>"
   ]
  },
  {
   "cell_type": "code",
   "execution_count": 10,
   "metadata": {},
   "outputs": [],
   "source": [
    "#Subsetting to data security events only\n",
    "ds_industrial = data[data[\"entity_sector\"]==\"Industrials\"]\n",
    "ds_industrial = ds_industrial[0:2]\n",
    "\n",
    "#Subsetting to technology industry that do not have data security as event\n",
    "ds_technology = data.loc[(data[\"entity_sector\"] == \"Technology\")]\n",
    "ds_technology = ds_technology[3:5]"
   ]
  },
  {
   "cell_type": "code",
   "execution_count": 11,
   "metadata": {},
   "outputs": [],
   "source": [
    "#Combining above subsets\n",
    "temp_data = pd.concat([ds_industrial, ds_technology])"
   ]
  },
  {
   "cell_type": "code",
   "execution_count": 12,
   "metadata": {
    "scrolled": true
   },
   "outputs": [
    {
     "data": {
      "text/plain": [
       "published_at        0\n",
       "entity_name         0\n",
       "entity_region       0\n",
       "entity_sector       0\n",
       "entity_ticker       0\n",
       "event_group         0\n",
       "event               0\n",
       "doc_id              0\n",
       "doc_title           0\n",
       "doc_source          0\n",
       "doc_type            0\n",
       "entity_country      0\n",
       "entity_relevance    0\n",
       "entity_sentiment    0\n",
       "event_relevance     0\n",
       "doc_sentiment       0\n",
       "event_sentiment     0\n",
       "signal_id           0\n",
       "signal_relevance    0\n",
       "signal_sentiment    0\n",
       "dtype: int64"
      ]
     },
     "execution_count": 12,
     "metadata": {},
     "output_type": "execute_result"
    }
   ],
   "source": [
    "#ensure there is no null values\n",
    "temp_data.isna().sum()"
   ]
  },
  {
   "cell_type": "code",
   "execution_count": 131,
   "metadata": {},
   "outputs": [
    {
     "data": {
      "text/html": [
       "<div>\n",
       "<style scoped>\n",
       "    .dataframe tbody tr th:only-of-type {\n",
       "        vertical-align: middle;\n",
       "    }\n",
       "\n",
       "    .dataframe tbody tr th {\n",
       "        vertical-align: top;\n",
       "    }\n",
       "\n",
       "    .dataframe thead th {\n",
       "        text-align: right;\n",
       "    }\n",
       "</style>\n",
       "<table border=\"1\" class=\"dataframe\">\n",
       "  <thead>\n",
       "    <tr style=\"text-align: right;\">\n",
       "      <th></th>\n",
       "      <th>published_at</th>\n",
       "      <th>entity_name</th>\n",
       "      <th>entity_region</th>\n",
       "      <th>entity_sector</th>\n",
       "      <th>entity_ticker</th>\n",
       "      <th>event_group</th>\n",
       "      <th>event</th>\n",
       "      <th>doc_id</th>\n",
       "      <th>doc_title</th>\n",
       "      <th>doc_source</th>\n",
       "      <th>...</th>\n",
       "      <th>signal_id</th>\n",
       "      <th>signal_relevance</th>\n",
       "      <th>signal_sentiment</th>\n",
       "      <th>doc_count</th>\n",
       "      <th>doc_count_per_entity</th>\n",
       "      <th>doc_count_per_event</th>\n",
       "      <th>doc_count_per_sector_x</th>\n",
       "      <th>Avg Entity Sentiment_x</th>\n",
       "      <th>doc_count_per_sector_y</th>\n",
       "      <th>Avg Entity Sentiment_y</th>\n",
       "    </tr>\n",
       "  </thead>\n",
       "  <tbody>\n",
       "    <tr>\n",
       "      <th>0</th>\n",
       "      <td>2020-01-01</td>\n",
       "      <td>BOMBARDIER INC-A</td>\n",
       "      <td>Americas</td>\n",
       "      <td>Industrials</td>\n",
       "      <td>BBD/A</td>\n",
       "      <td>Environment</td>\n",
       "      <td>Environment - Energy Management - SASB</td>\n",
       "      <td>5e0ca8884ed9470001e1eb00</td>\n",
       "      <td>Print - Bombardiers joint venture wins contrac...</td>\n",
       "      <td>ACCERN: globenewswire.com</td>\n",
       "      <td>...</td>\n",
       "      <td>90f6ebba-71a2-4d8a-8a5f-233a63ca9236</td>\n",
       "      <td>31.875</td>\n",
       "      <td>19.7836</td>\n",
       "      <td>1</td>\n",
       "      <td>2</td>\n",
       "      <td>2</td>\n",
       "      <td>2</td>\n",
       "      <td>10.8120</td>\n",
       "      <td>2</td>\n",
       "      <td>10.8120</td>\n",
       "    </tr>\n",
       "    <tr>\n",
       "      <th>1</th>\n",
       "      <td>2020-01-01</td>\n",
       "      <td>BOMBARDIER INC-A</td>\n",
       "      <td>Americas</td>\n",
       "      <td>Industrials</td>\n",
       "      <td>BBD/A</td>\n",
       "      <td>Environment</td>\n",
       "      <td>Environment - Energy Management - SASB</td>\n",
       "      <td>5e0ca7ef6a72090001b7e687</td>\n",
       "      <td>Bombardiers joint venture wins contract to bui...</td>\n",
       "      <td>ACCERN: globenewswire.com</td>\n",
       "      <td>...</td>\n",
       "      <td>584cb3f0-e440-4fc4-8488-0182d2ffcf3b</td>\n",
       "      <td>28.125</td>\n",
       "      <td>21.0631</td>\n",
       "      <td>1</td>\n",
       "      <td>2</td>\n",
       "      <td>2</td>\n",
       "      <td>2</td>\n",
       "      <td>10.8120</td>\n",
       "      <td>2</td>\n",
       "      <td>10.8120</td>\n",
       "    </tr>\n",
       "    <tr>\n",
       "      <th>2</th>\n",
       "      <td>2020-01-01</td>\n",
       "      <td>Apple Inc</td>\n",
       "      <td>Europe</td>\n",
       "      <td>Technology</td>\n",
       "      <td>AAPL</td>\n",
       "      <td>Social</td>\n",
       "      <td>Social - Data Security - SASB</td>\n",
       "      <td>5e87b1a43f5416001d100406</td>\n",
       "      <td>How To: Jailbreak Any iPhone, iPod Touch or iPad</td>\n",
       "      <td>Gizmodo</td>\n",
       "      <td>...</td>\n",
       "      <td>8676ca33-72ad-4186-b942-67e7be8ee95d</td>\n",
       "      <td>45.000</td>\n",
       "      <td>-44.1990</td>\n",
       "      <td>1</td>\n",
       "      <td>1</td>\n",
       "      <td>2</td>\n",
       "      <td>2</td>\n",
       "      <td>-67.9119</td>\n",
       "      <td>2</td>\n",
       "      <td>-67.9119</td>\n",
       "    </tr>\n",
       "    <tr>\n",
       "      <th>3</th>\n",
       "      <td>2020-01-01</td>\n",
       "      <td>INTL BUSINESS MACHINES CORP</td>\n",
       "      <td>Europe</td>\n",
       "      <td>Technology</td>\n",
       "      <td>IBM</td>\n",
       "      <td>Social</td>\n",
       "      <td>Social - Data Security - SASB</td>\n",
       "      <td>5e87b1b23f54160019100a74</td>\n",
       "      <td>Tech Chiefs Plan to Boost Cybersecurity Spending</td>\n",
       "      <td>Wall Street Journal</td>\n",
       "      <td>...</td>\n",
       "      <td>0fa1ddd1-a0d6-4a86-a6dc-46bbd2e524d2</td>\n",
       "      <td>68.750</td>\n",
       "      <td>24.4634</td>\n",
       "      <td>1</td>\n",
       "      <td>1</td>\n",
       "      <td>2</td>\n",
       "      <td>2</td>\n",
       "      <td>28.1250</td>\n",
       "      <td>2</td>\n",
       "      <td>28.1250</td>\n",
       "    </tr>\n",
       "  </tbody>\n",
       "</table>\n",
       "<p>4 rows × 27 columns</p>\n",
       "</div>"
      ],
      "text/plain": [
       "  published_at                  entity_name entity_region entity_sector  \\\n",
       "0   2020-01-01             BOMBARDIER INC-A      Americas   Industrials   \n",
       "1   2020-01-01             BOMBARDIER INC-A      Americas   Industrials   \n",
       "2   2020-01-01                    Apple Inc        Europe    Technology   \n",
       "3   2020-01-01  INTL BUSINESS MACHINES CORP        Europe    Technology   \n",
       "\n",
       "  entity_ticker  event_group                                   event  \\\n",
       "0         BBD/A  Environment  Environment - Energy Management - SASB   \n",
       "1         BBD/A  Environment  Environment - Energy Management - SASB   \n",
       "2          AAPL       Social           Social - Data Security - SASB   \n",
       "3           IBM       Social           Social - Data Security - SASB   \n",
       "\n",
       "                     doc_id  \\\n",
       "0  5e0ca8884ed9470001e1eb00   \n",
       "1  5e0ca7ef6a72090001b7e687   \n",
       "2  5e87b1a43f5416001d100406   \n",
       "3  5e87b1b23f54160019100a74   \n",
       "\n",
       "                                           doc_title  \\\n",
       "0  Print - Bombardiers joint venture wins contrac...   \n",
       "1  Bombardiers joint venture wins contract to bui...   \n",
       "2   How To: Jailbreak Any iPhone, iPod Touch or iPad   \n",
       "3   Tech Chiefs Plan to Boost Cybersecurity Spending   \n",
       "\n",
       "                  doc_source  ...                             signal_id  \\\n",
       "0  ACCERN: globenewswire.com  ...  90f6ebba-71a2-4d8a-8a5f-233a63ca9236   \n",
       "1  ACCERN: globenewswire.com  ...  584cb3f0-e440-4fc4-8488-0182d2ffcf3b   \n",
       "2                    Gizmodo  ...  8676ca33-72ad-4186-b942-67e7be8ee95d   \n",
       "3        Wall Street Journal  ...  0fa1ddd1-a0d6-4a86-a6dc-46bbd2e524d2   \n",
       "\n",
       "  signal_relevance  signal_sentiment  doc_count  doc_count_per_entity  \\\n",
       "0           31.875           19.7836          1                     2   \n",
       "1           28.125           21.0631          1                     2   \n",
       "2           45.000          -44.1990          1                     1   \n",
       "3           68.750           24.4634          1                     1   \n",
       "\n",
       "   doc_count_per_event  doc_count_per_sector_x Avg Entity Sentiment_x  \\\n",
       "0                    2                       2                10.8120   \n",
       "1                    2                       2                10.8120   \n",
       "2                    2                       2               -67.9119   \n",
       "3                    2                       2                28.1250   \n",
       "\n",
       "   doc_count_per_sector_y  Avg Entity Sentiment_y  \n",
       "0                       2                 10.8120  \n",
       "1                       2                 10.8120  \n",
       "2                       2                -67.9119  \n",
       "3                       2                 28.1250  \n",
       "\n",
       "[4 rows x 27 columns]"
      ]
     },
     "execution_count": 131,
     "metadata": {},
     "output_type": "execute_result"
    }
   ],
   "source": [
    "temp_data"
   ]
  },
  {
   "cell_type": "markdown",
   "metadata": {},
   "source": [
    "## Counts for Node Size"
   ]
  },
  {
   "cell_type": "markdown",
   "metadata": {},
   "source": [
    "#### Calculating no. of documents"
   ]
  },
  {
   "cell_type": "code",
   "execution_count": 132,
   "metadata": {},
   "outputs": [],
   "source": [
    "doc_count = temp_data.groupby('doc_id')['doc_id'].count().reset_index(name = 'doc_count')"
   ]
  },
  {
   "cell_type": "code",
   "execution_count": 133,
   "metadata": {
    "scrolled": true
   },
   "outputs": [],
   "source": [
    "temp_data = pd.merge(temp_data, doc_count , on = 'doc_id', how = 'left')"
   ]
  },
  {
   "cell_type": "markdown",
   "metadata": {},
   "source": [
    "#### Calculating no. of documents per entity"
   ]
  },
  {
   "cell_type": "code",
   "execution_count": 134,
   "metadata": {
    "scrolled": true
   },
   "outputs": [],
   "source": [
    "entity_wise_doc_count = temp_data.groupby('entity_name')['doc_id'].count().reset_index(name = 'doc_count_per_entity')"
   ]
  },
  {
   "cell_type": "code",
   "execution_count": 135,
   "metadata": {
    "scrolled": true
   },
   "outputs": [],
   "source": [
    "temp_data = pd.merge(temp_data, entity_wise_doc_count , on = 'entity_name', how = 'left')"
   ]
  },
  {
   "cell_type": "markdown",
   "metadata": {},
   "source": [
    "#### Calculating no. of documents per event"
   ]
  },
  {
   "cell_type": "code",
   "execution_count": 136,
   "metadata": {},
   "outputs": [],
   "source": [
    "event_wise_doc_count = temp_data.groupby('event')['doc_id'].count().reset_index(name = 'doc_count_per_event')"
   ]
  },
  {
   "cell_type": "code",
   "execution_count": 137,
   "metadata": {
    "scrolled": true
   },
   "outputs": [],
   "source": [
    "temp_data = pd.merge(temp_data, event_wise_doc_count , on = 'event', how = 'left')"
   ]
  },
  {
   "cell_type": "markdown",
   "metadata": {},
   "source": [
    "#### Calculating no. of documents per sector"
   ]
  },
  {
   "cell_type": "code",
   "execution_count": 138,
   "metadata": {},
   "outputs": [
    {
     "data": {
      "text/html": [
       "<div>\n",
       "<style scoped>\n",
       "    .dataframe tbody tr th:only-of-type {\n",
       "        vertical-align: middle;\n",
       "    }\n",
       "\n",
       "    .dataframe tbody tr th {\n",
       "        vertical-align: top;\n",
       "    }\n",
       "\n",
       "    .dataframe thead th {\n",
       "        text-align: right;\n",
       "    }\n",
       "</style>\n",
       "<table border=\"1\" class=\"dataframe\">\n",
       "  <thead>\n",
       "    <tr style=\"text-align: right;\">\n",
       "      <th></th>\n",
       "      <th>entity_sector</th>\n",
       "      <th>doc_count_per_sector</th>\n",
       "    </tr>\n",
       "  </thead>\n",
       "  <tbody>\n",
       "    <tr>\n",
       "      <th>0</th>\n",
       "      <td>Industrials</td>\n",
       "      <td>2</td>\n",
       "    </tr>\n",
       "    <tr>\n",
       "      <th>1</th>\n",
       "      <td>Technology</td>\n",
       "      <td>2</td>\n",
       "    </tr>\n",
       "  </tbody>\n",
       "</table>\n",
       "</div>"
      ],
      "text/plain": [
       "  entity_sector  doc_count_per_sector\n",
       "0   Industrials                     2\n",
       "1    Technology                     2"
      ]
     },
     "execution_count": 138,
     "metadata": {},
     "output_type": "execute_result"
    }
   ],
   "source": [
    "sector_wise_doc_count = temp_data.groupby('entity_sector')['doc_id'].count().reset_index(name = 'doc_count_per_sector')\n",
    "sector_wise_doc_count.head()"
   ]
  },
  {
   "cell_type": "code",
   "execution_count": 139,
   "metadata": {},
   "outputs": [
    {
     "data": {
      "text/html": [
       "<div>\n",
       "<style scoped>\n",
       "    .dataframe tbody tr th:only-of-type {\n",
       "        vertical-align: middle;\n",
       "    }\n",
       "\n",
       "    .dataframe tbody tr th {\n",
       "        vertical-align: top;\n",
       "    }\n",
       "\n",
       "    .dataframe thead th {\n",
       "        text-align: right;\n",
       "    }\n",
       "</style>\n",
       "<table border=\"1\" class=\"dataframe\">\n",
       "  <thead>\n",
       "    <tr style=\"text-align: right;\">\n",
       "      <th></th>\n",
       "      <th>published_at</th>\n",
       "      <th>entity_name</th>\n",
       "      <th>entity_region</th>\n",
       "      <th>entity_sector</th>\n",
       "      <th>entity_ticker</th>\n",
       "      <th>event_group</th>\n",
       "      <th>event</th>\n",
       "      <th>doc_id</th>\n",
       "      <th>doc_title</th>\n",
       "      <th>doc_source</th>\n",
       "      <th>...</th>\n",
       "      <th>doc_count_per_entity_x</th>\n",
       "      <th>doc_count_per_event_x</th>\n",
       "      <th>doc_count_per_sector_x</th>\n",
       "      <th>Avg Entity Sentiment_x</th>\n",
       "      <th>doc_count_per_sector_y</th>\n",
       "      <th>Avg Entity Sentiment_y</th>\n",
       "      <th>doc_count_y</th>\n",
       "      <th>doc_count_per_entity_y</th>\n",
       "      <th>doc_count_per_event_y</th>\n",
       "      <th>doc_count_per_sector</th>\n",
       "    </tr>\n",
       "  </thead>\n",
       "  <tbody>\n",
       "    <tr>\n",
       "      <th>0</th>\n",
       "      <td>2020-01-01</td>\n",
       "      <td>BOMBARDIER INC-A</td>\n",
       "      <td>Americas</td>\n",
       "      <td>Industrials</td>\n",
       "      <td>BBD/A</td>\n",
       "      <td>Environment</td>\n",
       "      <td>Environment - Energy Management - SASB</td>\n",
       "      <td>5e0ca8884ed9470001e1eb00</td>\n",
       "      <td>Print - Bombardiers joint venture wins contrac...</td>\n",
       "      <td>ACCERN: globenewswire.com</td>\n",
       "      <td>...</td>\n",
       "      <td>2</td>\n",
       "      <td>2</td>\n",
       "      <td>2</td>\n",
       "      <td>10.8120</td>\n",
       "      <td>2</td>\n",
       "      <td>10.8120</td>\n",
       "      <td>1</td>\n",
       "      <td>2</td>\n",
       "      <td>2</td>\n",
       "      <td>2</td>\n",
       "    </tr>\n",
       "    <tr>\n",
       "      <th>1</th>\n",
       "      <td>2020-01-01</td>\n",
       "      <td>BOMBARDIER INC-A</td>\n",
       "      <td>Americas</td>\n",
       "      <td>Industrials</td>\n",
       "      <td>BBD/A</td>\n",
       "      <td>Environment</td>\n",
       "      <td>Environment - Energy Management - SASB</td>\n",
       "      <td>5e0ca7ef6a72090001b7e687</td>\n",
       "      <td>Bombardiers joint venture wins contract to bui...</td>\n",
       "      <td>ACCERN: globenewswire.com</td>\n",
       "      <td>...</td>\n",
       "      <td>2</td>\n",
       "      <td>2</td>\n",
       "      <td>2</td>\n",
       "      <td>10.8120</td>\n",
       "      <td>2</td>\n",
       "      <td>10.8120</td>\n",
       "      <td>1</td>\n",
       "      <td>2</td>\n",
       "      <td>2</td>\n",
       "      <td>2</td>\n",
       "    </tr>\n",
       "    <tr>\n",
       "      <th>2</th>\n",
       "      <td>2020-01-01</td>\n",
       "      <td>Apple Inc</td>\n",
       "      <td>Europe</td>\n",
       "      <td>Technology</td>\n",
       "      <td>AAPL</td>\n",
       "      <td>Social</td>\n",
       "      <td>Social - Data Security - SASB</td>\n",
       "      <td>5e87b1a43f5416001d100406</td>\n",
       "      <td>How To: Jailbreak Any iPhone, iPod Touch or iPad</td>\n",
       "      <td>Gizmodo</td>\n",
       "      <td>...</td>\n",
       "      <td>1</td>\n",
       "      <td>2</td>\n",
       "      <td>2</td>\n",
       "      <td>-67.9119</td>\n",
       "      <td>2</td>\n",
       "      <td>-67.9119</td>\n",
       "      <td>1</td>\n",
       "      <td>1</td>\n",
       "      <td>2</td>\n",
       "      <td>2</td>\n",
       "    </tr>\n",
       "    <tr>\n",
       "      <th>3</th>\n",
       "      <td>2020-01-01</td>\n",
       "      <td>INTL BUSINESS MACHINES CORP</td>\n",
       "      <td>Europe</td>\n",
       "      <td>Technology</td>\n",
       "      <td>IBM</td>\n",
       "      <td>Social</td>\n",
       "      <td>Social - Data Security - SASB</td>\n",
       "      <td>5e87b1b23f54160019100a74</td>\n",
       "      <td>Tech Chiefs Plan to Boost Cybersecurity Spending</td>\n",
       "      <td>Wall Street Journal</td>\n",
       "      <td>...</td>\n",
       "      <td>1</td>\n",
       "      <td>2</td>\n",
       "      <td>2</td>\n",
       "      <td>28.1250</td>\n",
       "      <td>2</td>\n",
       "      <td>28.1250</td>\n",
       "      <td>1</td>\n",
       "      <td>1</td>\n",
       "      <td>2</td>\n",
       "      <td>2</td>\n",
       "    </tr>\n",
       "  </tbody>\n",
       "</table>\n",
       "<p>4 rows × 31 columns</p>\n",
       "</div>"
      ],
      "text/plain": [
       "  published_at                  entity_name entity_region entity_sector  \\\n",
       "0   2020-01-01             BOMBARDIER INC-A      Americas   Industrials   \n",
       "1   2020-01-01             BOMBARDIER INC-A      Americas   Industrials   \n",
       "2   2020-01-01                    Apple Inc        Europe    Technology   \n",
       "3   2020-01-01  INTL BUSINESS MACHINES CORP        Europe    Technology   \n",
       "\n",
       "  entity_ticker  event_group                                   event  \\\n",
       "0         BBD/A  Environment  Environment - Energy Management - SASB   \n",
       "1         BBD/A  Environment  Environment - Energy Management - SASB   \n",
       "2          AAPL       Social           Social - Data Security - SASB   \n",
       "3           IBM       Social           Social - Data Security - SASB   \n",
       "\n",
       "                     doc_id  \\\n",
       "0  5e0ca8884ed9470001e1eb00   \n",
       "1  5e0ca7ef6a72090001b7e687   \n",
       "2  5e87b1a43f5416001d100406   \n",
       "3  5e87b1b23f54160019100a74   \n",
       "\n",
       "                                           doc_title  \\\n",
       "0  Print - Bombardiers joint venture wins contrac...   \n",
       "1  Bombardiers joint venture wins contract to bui...   \n",
       "2   How To: Jailbreak Any iPhone, iPod Touch or iPad   \n",
       "3   Tech Chiefs Plan to Boost Cybersecurity Spending   \n",
       "\n",
       "                  doc_source  ... doc_count_per_entity_x  \\\n",
       "0  ACCERN: globenewswire.com  ...                      2   \n",
       "1  ACCERN: globenewswire.com  ...                      2   \n",
       "2                    Gizmodo  ...                      1   \n",
       "3        Wall Street Journal  ...                      1   \n",
       "\n",
       "  doc_count_per_event_x  doc_count_per_sector_x  Avg Entity Sentiment_x  \\\n",
       "0                     2                       2                 10.8120   \n",
       "1                     2                       2                 10.8120   \n",
       "2                     2                       2                -67.9119   \n",
       "3                     2                       2                 28.1250   \n",
       "\n",
       "   doc_count_per_sector_y  Avg Entity Sentiment_y  doc_count_y  \\\n",
       "0                       2                 10.8120            1   \n",
       "1                       2                 10.8120            1   \n",
       "2                       2                -67.9119            1   \n",
       "3                       2                 28.1250            1   \n",
       "\n",
       "  doc_count_per_entity_y  doc_count_per_event_y  doc_count_per_sector  \n",
       "0                      2                      2                     2  \n",
       "1                      2                      2                     2  \n",
       "2                      1                      2                     2  \n",
       "3                      1                      2                     2  \n",
       "\n",
       "[4 rows x 31 columns]"
      ]
     },
     "execution_count": 139,
     "metadata": {},
     "output_type": "execute_result"
    }
   ],
   "source": [
    "temp_data = pd.merge(temp_data, sector_wise_doc_count , on = 'entity_sector', how = 'left')\n",
    "temp_data.head()"
   ]
  },
  {
   "cell_type": "markdown",
   "metadata": {},
   "source": [
    "## Entity Sentiment Calculation"
   ]
  },
  {
   "cell_type": "code",
   "execution_count": 140,
   "metadata": {},
   "outputs": [],
   "source": [
    "entity_avg_sentiment = temp_data.groupby('entity_name')['entity_sentiment'].mean().reset_index(name = \"Avg Entity Sentiment\")"
   ]
  },
  {
   "cell_type": "code",
   "execution_count": 141,
   "metadata": {},
   "outputs": [
    {
     "data": {
      "text/html": [
       "<div>\n",
       "<style scoped>\n",
       "    .dataframe tbody tr th:only-of-type {\n",
       "        vertical-align: middle;\n",
       "    }\n",
       "\n",
       "    .dataframe tbody tr th {\n",
       "        vertical-align: top;\n",
       "    }\n",
       "\n",
       "    .dataframe thead th {\n",
       "        text-align: right;\n",
       "    }\n",
       "</style>\n",
       "<table border=\"1\" class=\"dataframe\">\n",
       "  <thead>\n",
       "    <tr style=\"text-align: right;\">\n",
       "      <th></th>\n",
       "      <th>published_at</th>\n",
       "      <th>entity_name</th>\n",
       "      <th>entity_region</th>\n",
       "      <th>entity_sector</th>\n",
       "      <th>entity_ticker</th>\n",
       "      <th>event_group</th>\n",
       "      <th>event</th>\n",
       "      <th>doc_id</th>\n",
       "      <th>doc_title</th>\n",
       "      <th>doc_source</th>\n",
       "      <th>...</th>\n",
       "      <th>doc_count_per_event_x</th>\n",
       "      <th>doc_count_per_sector_x</th>\n",
       "      <th>Avg Entity Sentiment_x</th>\n",
       "      <th>doc_count_per_sector_y</th>\n",
       "      <th>Avg Entity Sentiment_y</th>\n",
       "      <th>doc_count_y</th>\n",
       "      <th>doc_count_per_entity_y</th>\n",
       "      <th>doc_count_per_event_y</th>\n",
       "      <th>doc_count_per_sector</th>\n",
       "      <th>Avg Entity Sentiment</th>\n",
       "    </tr>\n",
       "  </thead>\n",
       "  <tbody>\n",
       "    <tr>\n",
       "      <th>0</th>\n",
       "      <td>2020-01-01</td>\n",
       "      <td>BOMBARDIER INC-A</td>\n",
       "      <td>Americas</td>\n",
       "      <td>Industrials</td>\n",
       "      <td>BBD/A</td>\n",
       "      <td>Environment</td>\n",
       "      <td>Environment - Energy Management - SASB</td>\n",
       "      <td>5e0ca8884ed9470001e1eb00</td>\n",
       "      <td>Print - Bombardiers joint venture wins contrac...</td>\n",
       "      <td>ACCERN: globenewswire.com</td>\n",
       "      <td>...</td>\n",
       "      <td>2</td>\n",
       "      <td>2</td>\n",
       "      <td>10.8120</td>\n",
       "      <td>2</td>\n",
       "      <td>10.8120</td>\n",
       "      <td>1</td>\n",
       "      <td>2</td>\n",
       "      <td>2</td>\n",
       "      <td>2</td>\n",
       "      <td>10.8120</td>\n",
       "    </tr>\n",
       "    <tr>\n",
       "      <th>1</th>\n",
       "      <td>2020-01-01</td>\n",
       "      <td>BOMBARDIER INC-A</td>\n",
       "      <td>Americas</td>\n",
       "      <td>Industrials</td>\n",
       "      <td>BBD/A</td>\n",
       "      <td>Environment</td>\n",
       "      <td>Environment - Energy Management - SASB</td>\n",
       "      <td>5e0ca7ef6a72090001b7e687</td>\n",
       "      <td>Bombardiers joint venture wins contract to bui...</td>\n",
       "      <td>ACCERN: globenewswire.com</td>\n",
       "      <td>...</td>\n",
       "      <td>2</td>\n",
       "      <td>2</td>\n",
       "      <td>10.8120</td>\n",
       "      <td>2</td>\n",
       "      <td>10.8120</td>\n",
       "      <td>1</td>\n",
       "      <td>2</td>\n",
       "      <td>2</td>\n",
       "      <td>2</td>\n",
       "      <td>10.8120</td>\n",
       "    </tr>\n",
       "    <tr>\n",
       "      <th>2</th>\n",
       "      <td>2020-01-01</td>\n",
       "      <td>Apple Inc</td>\n",
       "      <td>Europe</td>\n",
       "      <td>Technology</td>\n",
       "      <td>AAPL</td>\n",
       "      <td>Social</td>\n",
       "      <td>Social - Data Security - SASB</td>\n",
       "      <td>5e87b1a43f5416001d100406</td>\n",
       "      <td>How To: Jailbreak Any iPhone, iPod Touch or iPad</td>\n",
       "      <td>Gizmodo</td>\n",
       "      <td>...</td>\n",
       "      <td>2</td>\n",
       "      <td>2</td>\n",
       "      <td>-67.9119</td>\n",
       "      <td>2</td>\n",
       "      <td>-67.9119</td>\n",
       "      <td>1</td>\n",
       "      <td>1</td>\n",
       "      <td>2</td>\n",
       "      <td>2</td>\n",
       "      <td>-67.9119</td>\n",
       "    </tr>\n",
       "    <tr>\n",
       "      <th>3</th>\n",
       "      <td>2020-01-01</td>\n",
       "      <td>INTL BUSINESS MACHINES CORP</td>\n",
       "      <td>Europe</td>\n",
       "      <td>Technology</td>\n",
       "      <td>IBM</td>\n",
       "      <td>Social</td>\n",
       "      <td>Social - Data Security - SASB</td>\n",
       "      <td>5e87b1b23f54160019100a74</td>\n",
       "      <td>Tech Chiefs Plan to Boost Cybersecurity Spending</td>\n",
       "      <td>Wall Street Journal</td>\n",
       "      <td>...</td>\n",
       "      <td>2</td>\n",
       "      <td>2</td>\n",
       "      <td>28.1250</td>\n",
       "      <td>2</td>\n",
       "      <td>28.1250</td>\n",
       "      <td>1</td>\n",
       "      <td>1</td>\n",
       "      <td>2</td>\n",
       "      <td>2</td>\n",
       "      <td>28.1250</td>\n",
       "    </tr>\n",
       "  </tbody>\n",
       "</table>\n",
       "<p>4 rows × 32 columns</p>\n",
       "</div>"
      ],
      "text/plain": [
       "  published_at                  entity_name entity_region entity_sector  \\\n",
       "0   2020-01-01             BOMBARDIER INC-A      Americas   Industrials   \n",
       "1   2020-01-01             BOMBARDIER INC-A      Americas   Industrials   \n",
       "2   2020-01-01                    Apple Inc        Europe    Technology   \n",
       "3   2020-01-01  INTL BUSINESS MACHINES CORP        Europe    Technology   \n",
       "\n",
       "  entity_ticker  event_group                                   event  \\\n",
       "0         BBD/A  Environment  Environment - Energy Management - SASB   \n",
       "1         BBD/A  Environment  Environment - Energy Management - SASB   \n",
       "2          AAPL       Social           Social - Data Security - SASB   \n",
       "3           IBM       Social           Social - Data Security - SASB   \n",
       "\n",
       "                     doc_id  \\\n",
       "0  5e0ca8884ed9470001e1eb00   \n",
       "1  5e0ca7ef6a72090001b7e687   \n",
       "2  5e87b1a43f5416001d100406   \n",
       "3  5e87b1b23f54160019100a74   \n",
       "\n",
       "                                           doc_title  \\\n",
       "0  Print - Bombardiers joint venture wins contrac...   \n",
       "1  Bombardiers joint venture wins contract to bui...   \n",
       "2   How To: Jailbreak Any iPhone, iPod Touch or iPad   \n",
       "3   Tech Chiefs Plan to Boost Cybersecurity Spending   \n",
       "\n",
       "                  doc_source  ... doc_count_per_event_x  \\\n",
       "0  ACCERN: globenewswire.com  ...                     2   \n",
       "1  ACCERN: globenewswire.com  ...                     2   \n",
       "2                    Gizmodo  ...                     2   \n",
       "3        Wall Street Journal  ...                     2   \n",
       "\n",
       "  doc_count_per_sector_x  Avg Entity Sentiment_x  doc_count_per_sector_y  \\\n",
       "0                      2                 10.8120                       2   \n",
       "1                      2                 10.8120                       2   \n",
       "2                      2                -67.9119                       2   \n",
       "3                      2                 28.1250                       2   \n",
       "\n",
       "   Avg Entity Sentiment_y  doc_count_y  doc_count_per_entity_y  \\\n",
       "0                 10.8120            1                       2   \n",
       "1                 10.8120            1                       2   \n",
       "2                -67.9119            1                       1   \n",
       "3                 28.1250            1                       1   \n",
       "\n",
       "  doc_count_per_event_y  doc_count_per_sector  Avg Entity Sentiment  \n",
       "0                     2                     2               10.8120  \n",
       "1                     2                     2               10.8120  \n",
       "2                     2                     2              -67.9119  \n",
       "3                     2                     2               28.1250  \n",
       "\n",
       "[4 rows x 32 columns]"
      ]
     },
     "execution_count": 141,
     "metadata": {},
     "output_type": "execute_result"
    }
   ],
   "source": [
    "temp_data = pd.merge(temp_data, entity_avg_sentiment, on = 'entity_name', how = 'left')\n",
    "temp_data.head()"
   ]
  },
  {
   "cell_type": "markdown",
   "metadata": {},
   "source": [
    "## AVG Sector sentiment"
   ]
  },
  {
   "cell_type": "code",
   "execution_count": 142,
   "metadata": {},
   "outputs": [],
   "source": [
    "result1 = temp_data[['entity_name','entity_sector']]"
   ]
  },
  {
   "cell_type": "code",
   "execution_count": 143,
   "metadata": {},
   "outputs": [],
   "source": [
    "result2 = pd.merge(result1, entity_avg_sentiment , on = 'entity_name', how = 'left')\n",
    "#deduplicate\n",
    "result2 = result2.drop_duplicates(subset=['entity_name','entity_sector'], keep='first')"
   ]
  },
  {
   "cell_type": "code",
   "execution_count": 144,
   "metadata": {
    "scrolled": true
   },
   "outputs": [
    {
     "data": {
      "text/html": [
       "<div>\n",
       "<style scoped>\n",
       "    .dataframe tbody tr th:only-of-type {\n",
       "        vertical-align: middle;\n",
       "    }\n",
       "\n",
       "    .dataframe tbody tr th {\n",
       "        vertical-align: top;\n",
       "    }\n",
       "\n",
       "    .dataframe thead th {\n",
       "        text-align: right;\n",
       "    }\n",
       "</style>\n",
       "<table border=\"1\" class=\"dataframe\">\n",
       "  <thead>\n",
       "    <tr style=\"text-align: right;\">\n",
       "      <th></th>\n",
       "      <th>entity_name</th>\n",
       "      <th>doc_count_per_entity</th>\n",
       "    </tr>\n",
       "  </thead>\n",
       "  <tbody>\n",
       "    <tr>\n",
       "      <th>0</th>\n",
       "      <td>Apple Inc</td>\n",
       "      <td>1</td>\n",
       "    </tr>\n",
       "    <tr>\n",
       "      <th>1</th>\n",
       "      <td>BOMBARDIER INC-A</td>\n",
       "      <td>2</td>\n",
       "    </tr>\n",
       "    <tr>\n",
       "      <th>2</th>\n",
       "      <td>INTL BUSINESS MACHINES CORP</td>\n",
       "      <td>1</td>\n",
       "    </tr>\n",
       "  </tbody>\n",
       "</table>\n",
       "</div>"
      ],
      "text/plain": [
       "                   entity_name  doc_count_per_entity\n",
       "0                    Apple Inc                     1\n",
       "1             BOMBARDIER INC-A                     2\n",
       "2  INTL BUSINESS MACHINES CORP                     1"
      ]
     },
     "execution_count": 144,
     "metadata": {},
     "output_type": "execute_result"
    }
   ],
   "source": [
    "entity_wise_doc_count.head()"
   ]
  },
  {
   "cell_type": "code",
   "execution_count": 145,
   "metadata": {
    "scrolled": true
   },
   "outputs": [],
   "source": [
    "result3 = pd.merge(entity_wise_doc_count, result2 , on = 'entity_name', how = 'left')"
   ]
  },
  {
   "cell_type": "code",
   "execution_count": 146,
   "metadata": {},
   "outputs": [],
   "source": [
    "#Weighted AVG Calc\n",
    "result3[\"entity_weighted_avg\"]  = result3[\"doc_count_per_entity\"] * result3[\"Avg Entity Sentiment\"]"
   ]
  },
  {
   "cell_type": "code",
   "execution_count": 147,
   "metadata": {
    "scrolled": true
   },
   "outputs": [],
   "source": [
    "#Group by entity_sector \n",
    "result4 = result3.groupby('entity_sector')['entity_weighted_avg'].sum().reset_index(name = \"Sum_entity_weighted_avg\")"
   ]
  },
  {
   "cell_type": "code",
   "execution_count": 148,
   "metadata": {
    "scrolled": true
   },
   "outputs": [],
   "source": [
    "result5 = pd.merge(sector_wise_doc_count, result4 , on = 'entity_sector', how = 'left')\n",
    "result5[\"Wt_Avg_sector_sentiment\"] = result5['Sum_entity_weighted_avg'] / result5['doc_count_per_sector']"
   ]
  },
  {
   "cell_type": "code",
   "execution_count": 149,
   "metadata": {
    "scrolled": true
   },
   "outputs": [
    {
     "data": {
      "text/html": [
       "<div>\n",
       "<style scoped>\n",
       "    .dataframe tbody tr th:only-of-type {\n",
       "        vertical-align: middle;\n",
       "    }\n",
       "\n",
       "    .dataframe tbody tr th {\n",
       "        vertical-align: top;\n",
       "    }\n",
       "\n",
       "    .dataframe thead th {\n",
       "        text-align: right;\n",
       "    }\n",
       "</style>\n",
       "<table border=\"1\" class=\"dataframe\">\n",
       "  <thead>\n",
       "    <tr style=\"text-align: right;\">\n",
       "      <th></th>\n",
       "      <th>entity_sector</th>\n",
       "      <th>Wt_Avg_sector_sentiment</th>\n",
       "    </tr>\n",
       "  </thead>\n",
       "  <tbody>\n",
       "    <tr>\n",
       "      <th>0</th>\n",
       "      <td>Industrials</td>\n",
       "      <td>10.81200</td>\n",
       "    </tr>\n",
       "    <tr>\n",
       "      <th>1</th>\n",
       "      <td>Technology</td>\n",
       "      <td>-19.89345</td>\n",
       "    </tr>\n",
       "  </tbody>\n",
       "</table>\n",
       "</div>"
      ],
      "text/plain": [
       "  entity_sector  Wt_Avg_sector_sentiment\n",
       "0   Industrials                 10.81200\n",
       "1    Technology                -19.89345"
      ]
     },
     "execution_count": 149,
     "metadata": {},
     "output_type": "execute_result"
    }
   ],
   "source": [
    "result6 = result5[['entity_sector','Wt_Avg_sector_sentiment']]\n",
    "result6 #choosing 2 columns"
   ]
  },
  {
   "cell_type": "code",
   "execution_count": 150,
   "metadata": {},
   "outputs": [
    {
     "data": {
      "text/plain": [
       "<matplotlib.axes._subplots.AxesSubplot at 0x1a344d4278>"
      ]
     },
     "execution_count": 150,
     "metadata": {},
     "output_type": "execute_result"
    },
    {
     "data": {
      "image/png": "[encoded data removed]",
      "text/plain": [
       "<Figure size 2880x576 with 1 Axes>"
      ]
     },
     "metadata": {
      "needs_background": "light"
     },
     "output_type": "display_data"
    }
   ],
   "source": [
    "plt.figure(figsize=(40, 8))\n",
    "plt.title('Weighted Average Sector Sentiment')\n",
    "sns.barplot(result6['entity_sector'], result6['Wt_Avg_sector_sentiment'])"
   ]
  },
  {
   "cell_type": "markdown",
   "metadata": {},
   "source": [
    "# KG SetUp<a class=\"anchor\" id=\"Section_5\"></a>"
   ]
  },
  {
   "cell_type": "markdown",
   "metadata": {},
   "source": [
    "#### Creating  df with AVG Sentiment for each node:<a class=\"anchor\" id=\"Section_51\"></a>"
   ]
  },
  {
   "cell_type": "code",
   "execution_count": 151,
   "metadata": {},
   "outputs": [],
   "source": [
    "#Entity\n",
    "entity_name_nodes = temp_data.groupby('entity_name')['entity_sentiment'].mean().reset_index(name = \"Avg Entity Sentiment\")\n",
    "#Event\n",
    "event_nodes = temp_data.groupby('event')['event_sentiment'].mean().reset_index(name = \"Avg Event Sentiment\")\n",
    "#Entity Sector\n",
    "entity_sector_nodes = result6\n",
    "#Doc title\n",
    "doc_avg_sentiment = temp_data.groupby('doc_title')['doc_sentiment'].mean().reset_index(name = \"Avg Doc Sentiment\")"
   ]
  },
  {
   "cell_type": "markdown",
   "metadata": {},
   "source": [
    "#### Creating nodes from unique df with sentiment"
   ]
  },
  {
   "cell_type": "code",
   "execution_count": 152,
   "metadata": {
    "scrolled": true
   },
   "outputs": [],
   "source": [
    "#entity\n",
    "node_df1 = entity_name_nodes.rename(columns={\"entity_name\": \"node\", \"Avg Entity Sentiment\": \"AVG Sentiment\"})\n",
    "#sector \n",
    "node_df2 = entity_sector_nodes.rename(columns={\"entity_sector\": \"node\", \"Wt_Avg_sector_sentiment\": \"AVG Sentiment\"})\n",
    "#event\n",
    "node_df3 = event_nodes.rename(columns={\"event\": \"node\", \"Avg Event Sentiment\": \"AVG Sentiment\"})\n",
    "#doc \n",
    "node_df4 = doc_avg_sentiment.rename(columns={\"doc_title\": \"node\", \"Avg Doc Sentiment\": \"AVG Sentiment\"})"
   ]
  },
  {
   "cell_type": "markdown",
   "metadata": {},
   "source": [
    "#### Column to Determine Shapes of Nodes"
   ]
  },
  {
   "cell_type": "code",
   "execution_count": 153,
   "metadata": {},
   "outputs": [
    {
     "name": "stderr",
     "output_type": "stream",
     "text": [
      "//anaconda3/lib/python3.7/site-packages/ipykernel_launcher.py:18: SettingWithCopyWarning:\n",
      "\n",
      "\n",
      "A value is trying to be set on a copy of a slice from a DataFrame\n",
      "\n",
      "See the caveats in the documentation: http://pandas.pydata.org/pandas-docs/stable/indexing.html#indexing-view-versus-copy\n",
      "\n",
      "//anaconda3/lib/python3.7/site-packages/ipykernel_launcher.py:20: SettingWithCopyWarning:\n",
      "\n",
      "\n",
      "A value is trying to be set on a copy of a slice from a DataFrame\n",
      "\n",
      "See the caveats in the documentation: http://pandas.pydata.org/pandas-docs/stable/indexing.html#indexing-view-versus-copy\n",
      "\n"
     ]
    }
   ],
   "source": [
    "#entity shape index\n",
    "node_df1['shape_index'] = 0   #circle\n",
    "\n",
    "#sector shape index\n",
    "node_df2['shape_index'] = 5   #triangle up\n",
    "\n",
    "#doc shape index\n",
    "node_df4['shape_index'] = 1   #square \n",
    "\n",
    "#event shape index\n",
    "\n",
    "#assigning default value as 3 (#cross)\n",
    "node_df3['shape_index'] = 3     \n",
    "\n",
    "#running loop to check E, S or G and assign index respectively \n",
    "for i in range(node_df3['node'].shape[0]):\n",
    "    if node_df3['node'][i].startswith('Environment'):\n",
    "        node_df3['shape_index'][i] = 3     #cross\n",
    "    elif node_df3['node'][i].startswith('Social'):\n",
    "        node_df3['shape_index'][i] = 4     #X\n",
    "    else:\n",
    "        node_df3['shape_index'][i] = 17    #star"
   ]
  },
  {
   "cell_type": "code",
   "execution_count": 154,
   "metadata": {
    "scrolled": true
   },
   "outputs": [],
   "source": [
    "#combining all df\n",
    "all_nodes = pd.concat([node_df1,node_df2,node_df3,node_df4])"
   ]
  },
  {
   "cell_type": "code",
   "execution_count": 155,
   "metadata": {},
   "outputs": [
    {
     "data": {
      "text/html": [
       "<div>\n",
       "<style scoped>\n",
       "    .dataframe tbody tr th:only-of-type {\n",
       "        vertical-align: middle;\n",
       "    }\n",
       "\n",
       "    .dataframe tbody tr th {\n",
       "        vertical-align: top;\n",
       "    }\n",
       "\n",
       "    .dataframe thead th {\n",
       "        text-align: right;\n",
       "    }\n",
       "</style>\n",
       "<table border=\"1\" class=\"dataframe\">\n",
       "  <thead>\n",
       "    <tr style=\"text-align: right;\">\n",
       "      <th></th>\n",
       "      <th>node</th>\n",
       "      <th>AVG Sentiment</th>\n",
       "      <th>shape_index</th>\n",
       "      <th>color</th>\n",
       "    </tr>\n",
       "  </thead>\n",
       "  <tbody>\n",
       "    <tr>\n",
       "      <th>0</th>\n",
       "      <td>Apple Inc</td>\n",
       "      <td>-67.91190</td>\n",
       "      <td>0</td>\n",
       "      <td>-100</td>\n",
       "    </tr>\n",
       "    <tr>\n",
       "      <th>1</th>\n",
       "      <td>BOMBARDIER INC-A</td>\n",
       "      <td>10.81200</td>\n",
       "      <td>0</td>\n",
       "      <td>50</td>\n",
       "    </tr>\n",
       "    <tr>\n",
       "      <th>2</th>\n",
       "      <td>INTL BUSINESS MACHINES CORP</td>\n",
       "      <td>28.12500</td>\n",
       "      <td>0</td>\n",
       "      <td>50</td>\n",
       "    </tr>\n",
       "    <tr>\n",
       "      <th>0</th>\n",
       "      <td>Industrials</td>\n",
       "      <td>10.81200</td>\n",
       "      <td>5</td>\n",
       "      <td>50</td>\n",
       "    </tr>\n",
       "    <tr>\n",
       "      <th>1</th>\n",
       "      <td>Technology</td>\n",
       "      <td>-19.89345</td>\n",
       "      <td>5</td>\n",
       "      <td>-50</td>\n",
       "    </tr>\n",
       "    <tr>\n",
       "      <th>0</th>\n",
       "      <td>Environment - Energy Management - SASB</td>\n",
       "      <td>30.03470</td>\n",
       "      <td>3</td>\n",
       "      <td>50</td>\n",
       "    </tr>\n",
       "    <tr>\n",
       "      <th>1</th>\n",
       "      <td>Social - Data Security - SASB</td>\n",
       "      <td>0.15785</td>\n",
       "      <td>4</td>\n",
       "      <td>50</td>\n",
       "    </tr>\n",
       "    <tr>\n",
       "      <th>0</th>\n",
       "      <td>Bombardiers joint venture wins contract to bui...</td>\n",
       "      <td>25.05890</td>\n",
       "      <td>1</td>\n",
       "      <td>50</td>\n",
       "    </tr>\n",
       "    <tr>\n",
       "      <th>1</th>\n",
       "      <td>How To: Jailbreak Any iPhone, iPod Touch or iPad</td>\n",
       "      <td>-44.19900</td>\n",
       "      <td>1</td>\n",
       "      <td>-50</td>\n",
       "    </tr>\n",
       "    <tr>\n",
       "      <th>2</th>\n",
       "      <td>Print - Bombardiers joint venture wins contrac...</td>\n",
       "      <td>22.31000</td>\n",
       "      <td>1</td>\n",
       "      <td>50</td>\n",
       "    </tr>\n",
       "    <tr>\n",
       "      <th>3</th>\n",
       "      <td>Tech Chiefs Plan to Boost Cybersecurity Spending</td>\n",
       "      <td>24.46340</td>\n",
       "      <td>1</td>\n",
       "      <td>50</td>\n",
       "    </tr>\n",
       "  </tbody>\n",
       "</table>\n",
       "</div>"
      ],
      "text/plain": [
       "                                                node  AVG Sentiment  \\\n",
       "0                                          Apple Inc      -67.91190   \n",
       "1                                   BOMBARDIER INC-A       10.81200   \n",
       "2                        INTL BUSINESS MACHINES CORP       28.12500   \n",
       "0                                        Industrials       10.81200   \n",
       "1                                         Technology      -19.89345   \n",
       "0             Environment - Energy Management - SASB       30.03470   \n",
       "1                      Social - Data Security - SASB        0.15785   \n",
       "0  Bombardiers joint venture wins contract to bui...       25.05890   \n",
       "1   How To: Jailbreak Any iPhone, iPod Touch or iPad      -44.19900   \n",
       "2  Print - Bombardiers joint venture wins contrac...       22.31000   \n",
       "3   Tech Chiefs Plan to Boost Cybersecurity Spending       24.46340   \n",
       "\n",
       "   shape_index  color  \n",
       "0            0   -100  \n",
       "1            0     50  \n",
       "2            0     50  \n",
       "0            5     50  \n",
       "1            5    -50  \n",
       "0            3     50  \n",
       "1            4     50  \n",
       "0            1     50  \n",
       "1            1    -50  \n",
       "2            1     50  \n",
       "3            1     50  "
      ]
     },
     "execution_count": 155,
     "metadata": {},
     "output_type": "execute_result"
    }
   ],
   "source": [
    "#binning the sentiments values \n",
    "# -100 to -50 --> dark red\n",
    "# -50 to 0 --> red\n",
    "# 0 to 50 --> green\n",
    "# 50 to 100 --> dark green\n",
    "\n",
    "all_nodes['color'] = np.where(all_nodes['AVG Sentiment'] > 50, 100,\n",
    "                                                   (np.where(all_nodes['AVG Sentiment'] > 0, 50,\n",
    "                                                        (np.where(all_nodes['AVG Sentiment'] == 0, 0,\n",
    "                                                             (np.where(all_nodes['AVG Sentiment'] > -50 , -50,-100)))))))\n",
    "all_nodes"
   ]
  },
  {
   "cell_type": "code",
   "execution_count": 156,
   "metadata": {},
   "outputs": [
    {
     "data": {
      "text/plain": [
       "0                                            Apple Inc\n",
       "1                                     BOMBARDIER INC-A\n",
       "2                          INTL BUSINESS MACHINES CORP\n",
       "0                                          Industrials\n",
       "1                                           Technology\n",
       "0               Environment - Energy Management - SASB\n",
       "1                        Social - Data Security - SASB\n",
       "0    Bombardiers joint venture wins contract to bui...\n",
       "1     How To: Jailbreak Any iPhone, iPod Touch or iPad\n",
       "2    Print - Bombardiers joint venture wins contrac...\n",
       "3     Tech Chiefs Plan to Boost Cybersecurity Spending\n",
       "Name: node, dtype: object"
      ]
     },
     "execution_count": 156,
     "metadata": {},
     "output_type": "execute_result"
    }
   ],
   "source": [
    "nodes_list=all_nodes['node']\n",
    "nodes_list"
   ]
  },
  {
   "cell_type": "markdown",
   "metadata": {},
   "source": [
    "### Sentiment Filtering"
   ]
  },
  {
   "cell_type": "code",
   "execution_count": 172,
   "metadata": {},
   "outputs": [
    {
     "data": {
      "text/html": [
       "<div>\n",
       "<style scoped>\n",
       "    .dataframe tbody tr th:only-of-type {\n",
       "        vertical-align: middle;\n",
       "    }\n",
       "\n",
       "    .dataframe tbody tr th {\n",
       "        vertical-align: top;\n",
       "    }\n",
       "\n",
       "    .dataframe thead th {\n",
       "        text-align: right;\n",
       "    }\n",
       "</style>\n",
       "<table border=\"1\" class=\"dataframe\">\n",
       "  <thead>\n",
       "    <tr style=\"text-align: right;\">\n",
       "      <th></th>\n",
       "      <th>node</th>\n",
       "      <th>AVG Sentiment</th>\n",
       "      <th>shape_index</th>\n",
       "      <th>color</th>\n",
       "    </tr>\n",
       "  </thead>\n",
       "  <tbody>\n",
       "    <tr>\n",
       "      <th>1</th>\n",
       "      <td>BOMBARDIER INC-A</td>\n",
       "      <td>10.81200</td>\n",
       "      <td>0</td>\n",
       "      <td>50</td>\n",
       "    </tr>\n",
       "    <tr>\n",
       "      <th>2</th>\n",
       "      <td>INTL BUSINESS MACHINES CORP</td>\n",
       "      <td>28.12500</td>\n",
       "      <td>0</td>\n",
       "      <td>50</td>\n",
       "    </tr>\n",
       "    <tr>\n",
       "      <th>0</th>\n",
       "      <td>Industrials</td>\n",
       "      <td>10.81200</td>\n",
       "      <td>5</td>\n",
       "      <td>50</td>\n",
       "    </tr>\n",
       "    <tr>\n",
       "      <th>1</th>\n",
       "      <td>Technology</td>\n",
       "      <td>-19.89345</td>\n",
       "      <td>5</td>\n",
       "      <td>-50</td>\n",
       "    </tr>\n",
       "    <tr>\n",
       "      <th>0</th>\n",
       "      <td>Environment - Energy Management - SASB</td>\n",
       "      <td>30.03470</td>\n",
       "      <td>3</td>\n",
       "      <td>50</td>\n",
       "    </tr>\n",
       "    <tr>\n",
       "      <th>1</th>\n",
       "      <td>Social - Data Security - SASB</td>\n",
       "      <td>0.15785</td>\n",
       "      <td>4</td>\n",
       "      <td>50</td>\n",
       "    </tr>\n",
       "    <tr>\n",
       "      <th>0</th>\n",
       "      <td>Bombardiers joint venture wins contract to bui...</td>\n",
       "      <td>25.05890</td>\n",
       "      <td>1</td>\n",
       "      <td>50</td>\n",
       "    </tr>\n",
       "    <tr>\n",
       "      <th>2</th>\n",
       "      <td>Print - Bombardiers joint venture wins contrac...</td>\n",
       "      <td>22.31000</td>\n",
       "      <td>1</td>\n",
       "      <td>50</td>\n",
       "    </tr>\n",
       "    <tr>\n",
       "      <th>3</th>\n",
       "      <td>Tech Chiefs Plan to Boost Cybersecurity Spending</td>\n",
       "      <td>24.46340</td>\n",
       "      <td>1</td>\n",
       "      <td>50</td>\n",
       "    </tr>\n",
       "  </tbody>\n",
       "</table>\n",
       "</div>"
      ],
      "text/plain": [
       "                                                node  AVG Sentiment  \\\n",
       "1                                   BOMBARDIER INC-A       10.81200   \n",
       "2                        INTL BUSINESS MACHINES CORP       28.12500   \n",
       "0                                        Industrials       10.81200   \n",
       "1                                         Technology      -19.89345   \n",
       "0             Environment - Energy Management - SASB       30.03470   \n",
       "1                      Social - Data Security - SASB        0.15785   \n",
       "0  Bombardiers joint venture wins contract to bui...       25.05890   \n",
       "2  Print - Bombardiers joint venture wins contrac...       22.31000   \n",
       "3   Tech Chiefs Plan to Boost Cybersecurity Spending       24.46340   \n",
       "\n",
       "   shape_index  color  \n",
       "1            0     50  \n",
       "2            0     50  \n",
       "0            5     50  \n",
       "1            5    -50  \n",
       "0            3     50  \n",
       "1            4     50  \n",
       "0            1     50  \n",
       "2            1     50  \n",
       "3            1     50  "
      ]
     },
     "execution_count": 172,
     "metadata": {},
     "output_type": "execute_result"
    }
   ],
   "source": [
    "#AND FILTERS based on All Nodes to find specific sentiment ranges\n",
    "all_nodes = all_nodes[(all_nodes['AVG Sentiment'] >= -30) & (all_nodes['AVG Sentiment']<= 100)]\n",
    "\n",
    "all_nodes"
   ]
  },
  {
   "cell_type": "markdown",
   "metadata": {},
   "source": [
    "### Graphing"
   ]
  },
  {
   "cell_type": "code",
   "execution_count": 158,
   "metadata": {},
   "outputs": [],
   "source": [
    "# create empty graph instance\n",
    "G = nx.Graph()"
   ]
  },
  {
   "cell_type": "code",
   "execution_count": 159,
   "metadata": {},
   "outputs": [],
   "source": [
    "# add nodes\n",
    "for i in nodes_list:\n",
    "    G.add_node(i)"
   ]
  },
  {
   "cell_type": "code",
   "execution_count": 160,
   "metadata": {},
   "outputs": [
    {
     "data": {
      "text/plain": [
       "NodeView(('Apple Inc', 'BOMBARDIER INC-A', 'INTL BUSINESS MACHINES CORP', 'Industrials', 'Technology', 'Environment - Energy Management - SASB', 'Social - Data Security - SASB', 'Bombardiers joint venture wins contract to build 160 new Chinese standard high-speed train cars Toronto Stock Exchange:BBD.A', 'How To: Jailbreak Any iPhone, iPod Touch or iPad', 'Print - Bombardiers joint venture wins contract to build 160 new Chinese standard high-speed train cars', 'Tech Chiefs Plan to Boost Cybersecurity Spending'))"
      ]
     },
     "execution_count": 160,
     "metadata": {},
     "output_type": "execute_result"
    }
   ],
   "source": [
    "G.nodes()"
   ]
  },
  {
   "cell_type": "code",
   "execution_count": 161,
   "metadata": {},
   "outputs": [],
   "source": [
    "#Creating edge list for relationships\n",
    "for i,j in temp_data.iterrows():\n",
    "    G.add_edges_from([(j[\"event\"],j[\"doc_title\"])]) #rls 1\n",
    "    G.add_edges_from([(j[\"entity_name\"],j[\"doc_title\"])]) #rls 2\n",
    "    G.add_edges_from([(j[\"entity_sector\"],j[\"entity_name\"])]) #rls 3"
   ]
  },
  {
   "cell_type": "code",
   "execution_count": 162,
   "metadata": {},
   "outputs": [
    {
     "data": {
      "text/plain": [
       "{'Apple Inc': array([0.2866768 , 0.50872385]),\n",
       " 'BOMBARDIER INC-A': array([-0.50050146, -0.8050951 ]),\n",
       " 'INTL BUSINESS MACHINES CORP': array([0.56868234, 0.74396086]),\n",
       " 'Industrials': array([-0.67277572, -0.61392921]),\n",
       " 'Technology': array([0.53975543, 0.52848169]),\n",
       " 'Environment - Energy Management - SASB': array([-0.12151262, -0.92467809]),\n",
       " 'Social - Data Security - SASB': array([0.11453422, 0.89799766]),\n",
       " 'Bombardiers joint venture wins contract to build 160 new Chinese standard high-speed train cars Toronto Stock Exchange:BBD.A': array([-0.34049706, -1.        ]),\n",
       " 'How To: Jailbreak Any iPhone, iPod Touch or iPad': array([0.08051594, 0.67480606]),\n",
       " 'Print - Bombardiers joint venture wins contract to build 160 new Chinese standard high-speed train cars': array([-0.27850201, -0.80335416]),\n",
       " 'Tech Chiefs Plan to Boost Cybersecurity Spending': array([0.32362413, 0.79308643])}"
      ]
     },
     "execution_count": 162,
     "metadata": {},
     "output_type": "execute_result"
    }
   ],
   "source": [
    "# getting positions of each node\n",
    "pos = nx.spring_layout(G, k=0.5, iterations=50)\n",
    "pos"
   ]
  },
  {
   "cell_type": "code",
   "execution_count": 163,
   "metadata": {},
   "outputs": [],
   "source": [
    "# add positions to graph\n",
    "\n",
    "for n, p in pos.items():\n",
    "    G.nodes[n]['pos'] = p"
   ]
  },
  {
   "cell_type": "code",
   "execution_count": 164,
   "metadata": {},
   "outputs": [],
   "source": [
    "# adding nodes and edges \n",
    "\n",
    "edge_trace = go.Scatter(\n",
    "    x=[],\n",
    "    y=[],\n",
    "    line=dict(width=0.5,color='#888'),\n",
    "    hoverinfo='none',\n",
    "    mode='lines')\n",
    "\n",
    "for edge in G.edges():\n",
    "    x0, y0 = G.nodes[edge[0]]['pos']\n",
    "    x1, y1 = G.nodes[edge[1]]['pos']\n",
    "    edge_trace['x'] += tuple([x0, x1, None])\n",
    "    edge_trace['y'] += tuple([y0, y1, None])"
   ]
  },
  {
   "cell_type": "markdown",
   "metadata": {},
   "source": [
    "#### sizing of nodes based on degrees"
   ]
  },
  {
   "cell_type": "code",
   "execution_count": 165,
   "metadata": {},
   "outputs": [],
   "source": [
    "d = nx.degree(G)\n",
    "node_sizes = []\n",
    "for i in d:\n",
    "    _, value = i\n",
    "    node_sizes.append(3*value+10)    "
   ]
  },
  {
   "cell_type": "markdown",
   "metadata": {},
   "source": [
    "#### shapes of nodes based on event_groups"
   ]
  },
  {
   "cell_type": "code",
   "execution_count": 166,
   "metadata": {},
   "outputs": [],
   "source": [
    "symbols = all_nodes['shape_index']"
   ]
  },
  {
   "cell_type": "markdown",
   "metadata": {},
   "source": [
    "## adding everything together"
   ]
  },
  {
   "cell_type": "code",
   "execution_count": 167,
   "metadata": {},
   "outputs": [],
   "source": [
    "#adjusting colour scale\n",
    "node_trace = go.Scatter(\n",
    "    x=[],\n",
    "    y=[],\n",
    "    text=[],\n",
    "    mode='markers',\n",
    "    marker_symbol = symbols,\n",
    "    marker_line_color=\"black\", \n",
    "    marker_line_width=2,\n",
    "    hoverinfo='text',\n",
    "    marker=dict(\n",
    "        showscale=True,\n",
    "        colorscale=#based on max-min\n",
    "                    [[0,\"rgb(227,26,28)\"], #red\n",
    "                    [0.5,\"rgb(250,250,250)\"], #white\n",
    "                   [1,\"rgb(51,160,44)\"]], #green\n",
    "        reversescale=False,\n",
    "        color=all_nodes['color'],\n",
    "        size=node_sizes,\n",
    "        colorbar=dict(\n",
    "            thickness=10,\n",
    "            title='Sentiment Range',\n",
    "            xanchor='left',\n",
    "            titleside='right'\n",
    "        ),\n",
    "        line=dict(width=0)))\n",
    "\n",
    "for node in G.nodes():\n",
    "    x, y = G.nodes[node]['pos']\n",
    "    node_trace['x'] += tuple([x])\n",
    "    node_trace['y'] += tuple([y])"
   ]
  },
  {
   "cell_type": "markdown",
   "metadata": {},
   "source": [
    "#### hover info<a class=\"anchor\" id=\"Section_52\"></a>"
   ]
  },
  {
   "cell_type": "code",
   "execution_count": 168,
   "metadata": {},
   "outputs": [
    {
     "name": "stdout",
     "output_type": "stream",
     "text": [
      "Apple Inc\n",
      "BOMBARDIER INC-A\n",
      "INTL BUSINESS MACHINES CORP\n",
      "Industrials\n",
      "Technology\n",
      "Environment - Energy Management - SASB\n",
      "Social - Data Security - SASB\n",
      "Bombardiers joint venture wins contract to build 160 new Chinese standard high-speed train cars Toronto Stock Exchange:BBD.A\n",
      "How To: Jailbreak Any iPhone, iPod Touch or iPad\n",
      "Print - Bombardiers joint venture wins contract to build 160 new Chinese standard high-speed train cars\n",
      "Tech Chiefs Plan to Boost Cybersecurity Spending\n"
     ]
    }
   ],
   "source": [
    "#colour based on adjancecy --> Loan to update\n",
    "for node, adjacencies in enumerate(G.adjacency()):\n",
    "    node_trace['marker']['color']+=tuple([len(adjacencies[1])])\n",
    "    print(adjacencies[0])\n",
    "    node_info = adjacencies[0] +' # of connections: '+str(len(adjacencies[1]))\n",
    "    node_trace['text']+=tuple([node_info])"
   ]
  },
  {
   "cell_type": "markdown",
   "metadata": {},
   "source": [
    "## Plotting"
   ]
  },
  {
   "cell_type": "code",
   "execution_count": 169,
   "metadata": {},
   "outputs": [
    {
     "data": {
      "application/vnd.plotly.v1+json": {
       "config": {
        "linkText": "Export to plot.ly",
        "plotlyServerURL": "https://plot.ly",
        "showLink": false
       },
       "data": [
        {
         "hoverinfo": "none",
         "line": {
          "color": "#888",
          "width": 0.5
         },
         "mode": "lines",
         "type": "scatter",
         "x": [
          0.28667680386508715,
          0.08051593860055438,
          null,
          0.28667680386508715,
          0.539755432396184,
          null,
          -0.5005014592811874,
          -0.278502008386485,
          null,
          -0.5005014592811874,
          -0.672775716573501,
          null,
          -0.5005014592811874,
          -0.3404970563751674,
          null,
          0.5686823370996574,
          0.32362412532830065,
          null,
          0.5686823370996574,
          0.539755432396184,
          null,
          -0.12151261565603969,
          -0.278502008386485,
          null,
          -0.12151261565603969,
          -0.3404970563751674,
          null,
          0.11453421898259714,
          0.08051593860055438,
          null,
          0.11453421898259714,
          0.32362412532830065,
          null
         ],
         "y": [
          0.508723852709649,
          0.6748060637257134,
          null,
          0.508723852709649,
          0.5284816874654206,
          null,
          -0.8050951020745298,
          -0.8033541638479181,
          null,
          -0.8050951020745298,
          -0.6139292078366476,
          null,
          -0.8050951020745298,
          -1,
          null,
          0.7439608642540468,
          0.7930864316308612,
          null,
          0.7439608642540468,
          0.5284816874654206,
          null,
          -0.9246780897771264,
          -0.8033541638479181,
          null,
          -0.9246780897771264,
          -1,
          null,
          0.8979976637505312,
          0.6748060637257134,
          null,
          0.8979976637505312,
          0.7930864316308612,
          null
         ]
        },
        {
         "hoverinfo": "text",
         "marker": {
          "color": [
           -78,
           72,
           72,
           72,
           -28,
           72,
           72,
           72,
           -28,
           72,
           72
          ],
          "colorbar": {
           "thickness": 10,
           "title": {
            "side": "right",
            "text": "Sentiment Range"
           },
           "xanchor": "left"
          },
          "colorscale": [
           [
            0,
            "rgb(227,26,28)"
           ],
           [
            0.5,
            "rgb(250,250,250)"
           ],
           [
            1,
            "rgb(51,160,44)"
           ]
          ],
          "line": {
           "color": "black",
           "width": 2
          },
          "reversescale": false,
          "showscale": true,
          "size": [
           16,
           19,
           16,
           13,
           16,
           16,
           16,
           16,
           16,
           16,
           16
          ],
          "symbol": [
           0,
           0,
           0,
           5,
           5,
           3,
           4,
           1,
           1,
           1,
           1
          ]
         },
         "mode": "markers",
         "text": [
          "Apple Inc # of connections: 2",
          "BOMBARDIER INC-A # of connections: 3",
          "INTL BUSINESS MACHINES CORP # of connections: 2",
          "Industrials # of connections: 1",
          "Technology # of connections: 2",
          "Environment - Energy Management - SASB # of connections: 2",
          "Social - Data Security - SASB # of connections: 2",
          "Bombardiers joint venture wins contract to build 160 new Chinese standard high-speed train cars Toronto Stock Exchange:BBD.A # of connections: 2",
          "How To: Jailbreak Any iPhone, iPod Touch or iPad # of connections: 2",
          "Print - Bombardiers joint venture wins contract to build 160 new Chinese standard high-speed train cars # of connections: 2",
          "Tech Chiefs Plan to Boost Cybersecurity Spending # of connections: 2"
         ],
         "type": "scatter",
         "x": [
          0.28667680386508715,
          -0.5005014592811874,
          0.5686823370996574,
          -0.672775716573501,
          0.539755432396184,
          -0.12151261565603969,
          0.11453421898259714,
          -0.3404970563751674,
          0.08051593860055438,
          -0.278502008386485,
          0.32362412532830065
         ],
         "y": [
          0.508723852709649,
          -0.8050951020745298,
          0.7439608642540468,
          -0.6139292078366476,
          0.5284816874654206,
          -0.9246780897771264,
          0.8979976637505312,
          -1,
          0.6748060637257134,
          -0.8033541638479181,
          0.7930864316308612
         ]
        }
       ],
       "layout": {
        "annotations": [
         {
          "showarrow": false,
          "text": "Hello ESG Analyst? How you doing?",
          "xref": "paper",
          "yref": "paper"
         }
        ],
        "hovermode": "closest",
        "margin": {
         "b": 20,
         "l": 5,
         "r": 5,
         "t": 40
        },
        "showlegend": false,
        "template": {
         "data": {
          "bar": [
           {
            "error_x": {
             "color": "#2a3f5f"
            },
            "error_y": {
             "color": "#2a3f5f"
            },
            "marker": {
             "line": {
              "color": "#E5ECF6",
              "width": 0.5
             }
            },
            "type": "bar"
           }
          ],
          "barpolar": [
           {
            "marker": {
             "line": {
              "color": "#E5ECF6",
              "width": 0.5
             }
            },
            "type": "barpolar"
           }
          ],
          "carpet": [
           {
            "aaxis": {
             "endlinecolor": "#2a3f5f",
             "gridcolor": "white",
             "linecolor": "white",
             "minorgridcolor": "white",
             "startlinecolor": "#2a3f5f"
            },
            "baxis": {
             "endlinecolor": "#2a3f5f",
             "gridcolor": "white",
             "linecolor": "white",
             "minorgridcolor": "white",
             "startlinecolor": "#2a3f5f"
            },
            "type": "carpet"
           }
          ],
          "choropleth": [
           {
            "colorbar": {
             "outlinewidth": 0,
             "ticks": ""
            },
            "type": "choropleth"
           }
          ],
          "contour": [
           {
            "colorbar": {
             "outlinewidth": 0,
             "ticks": ""
            },
            "colorscale": [
             [
              0,
              "#0d0887"
             ],
             [
              0.1111111111111111,
              "#46039f"
             ],
             [
              0.2222222222222222,
              "#7201a8"
             ],
             [
              0.3333333333333333,
              "#9c179e"
             ],
             [
              0.4444444444444444,
              "#bd3786"
             ],
             [
              0.5555555555555556,
              "#d8576b"
             ],
             [
              0.6666666666666666,
              "#ed7953"
             ],
             [
              0.7777777777777778,
              "#fb9f3a"
             ],
             [
              0.8888888888888888,
              "#fdca26"
             ],
             [
              1,
              "#f0f921"
             ]
            ],
            "type": "contour"
           }
          ],
          "contourcarpet": [
           {
            "colorbar": {
             "outlinewidth": 0,
             "ticks": ""
            },
            "type": "contourcarpet"
           }
          ],
          "heatmap": [
           {
            "colorbar": {
             "outlinewidth": 0,
             "ticks": ""
            },
            "colorscale": [
             [
              0,
              "#0d0887"
             ],
             [
              0.1111111111111111,
              "#46039f"
             ],
             [
              0.2222222222222222,
              "#7201a8"
             ],
             [
              0.3333333333333333,
              "#9c179e"
             ],
             [
              0.4444444444444444,
              "#bd3786"
             ],
             [
              0.5555555555555556,
              "#d8576b"
             ],
             [
              0.6666666666666666,
              "#ed7953"
             ],
             [
              0.7777777777777778,
              "#fb9f3a"
             ],
             [
              0.8888888888888888,
              "#fdca26"
             ],
             [
              1,
              "#f0f921"
             ]
            ],
            "type": "heatmap"
           }
          ],
          "heatmapgl": [
           {
            "colorbar": {
             "outlinewidth": 0,
             "ticks": ""
            },
            "colorscale": [
             [
              0,
              "#0d0887"
             ],
             [
              0.1111111111111111,
              "#46039f"
             ],
             [
              0.2222222222222222,
              "#7201a8"
             ],
             [
              0.3333333333333333,
              "#9c179e"
             ],
             [
              0.4444444444444444,
              "#bd3786"
             ],
             [
              0.5555555555555556,
              "#d8576b"
             ],
             [
              0.6666666666666666,
              "#ed7953"
             ],
             [
              0.7777777777777778,
              "#fb9f3a"
             ],
             [
              0.8888888888888888,
              "#fdca26"
             ],
             [
              1,
              "#f0f921"
             ]
            ],
            "type": "heatmapgl"
           }
          ],
          "histogram": [
           {
            "marker": {
             "colorbar": {
              "outlinewidth": 0,
              "ticks": ""
             }
            },
            "type": "histogram"
           }
          ],
          "histogram2d": [
           {
            "colorbar": {
             "outlinewidth": 0,
             "ticks": ""
            },
            "colorscale": [
             [
              0,
              "#0d0887"
             ],
             [
              0.1111111111111111,
              "#46039f"
             ],
             [
              0.2222222222222222,
              "#7201a8"
             ],
             [
              0.3333333333333333,
              "#9c179e"
             ],
             [
              0.4444444444444444,
              "#bd3786"
             ],
             [
              0.5555555555555556,
              "#d8576b"
             ],
             [
              0.6666666666666666,
              "#ed7953"
             ],
             [
              0.7777777777777778,
              "#fb9f3a"
             ],
             [
              0.8888888888888888,
              "#fdca26"
             ],
             [
              1,
              "#f0f921"
             ]
            ],
            "type": "histogram2d"
           }
          ],
          "histogram2dcontour": [
           {
            "colorbar": {
             "outlinewidth": 0,
             "ticks": ""
            },
            "colorscale": [
             [
              0,
              "#0d0887"
             ],
             [
              0.1111111111111111,
              "#46039f"
             ],
             [
              0.2222222222222222,
              "#7201a8"
             ],
             [
              0.3333333333333333,
              "#9c179e"
             ],
             [
              0.4444444444444444,
              "#bd3786"
             ],
             [
              0.5555555555555556,
              "#d8576b"
             ],
             [
              0.6666666666666666,
              "#ed7953"
             ],
             [
              0.7777777777777778,
              "#fb9f3a"
             ],
             [
              0.8888888888888888,
              "#fdca26"
             ],
             [
              1,
              "#f0f921"
             ]
            ],
            "type": "histogram2dcontour"
           }
          ],
          "mesh3d": [
           {
            "colorbar": {
             "outlinewidth": 0,
             "ticks": ""
            },
            "type": "mesh3d"
           }
          ],
          "parcoords": [
           {
            "line": {
             "colorbar": {
              "outlinewidth": 0,
              "ticks": ""
             }
            },
            "type": "parcoords"
           }
          ],
          "pie": [
           {
            "automargin": true,
            "type": "pie"
           }
          ],
          "scatter": [
           {
            "marker": {
             "colorbar": {
              "outlinewidth": 0,
              "ticks": ""
             }
            },
            "type": "scatter"
           }
          ],
          "scatter3d": [
           {
            "line": {
             "colorbar": {
              "outlinewidth": 0,
              "ticks": ""
             }
            },
            "marker": {
             "colorbar": {
              "outlinewidth": 0,
              "ticks": ""
             }
            },
            "type": "scatter3d"
           }
          ],
          "scattercarpet": [
           {
            "marker": {
             "colorbar": {
              "outlinewidth": 0,
              "ticks": ""
             }
            },
            "type": "scattercarpet"
           }
          ],
          "scattergeo": [
           {
            "marker": {
             "colorbar": {
              "outlinewidth": 0,
              "ticks": ""
             }
            },
            "type": "scattergeo"
           }
          ],
          "scattergl": [
           {
            "marker": {
             "colorbar": {
              "outlinewidth": 0,
              "ticks": ""
             }
            },
            "type": "scattergl"
           }
          ],
          "scattermapbox": [
           {
            "marker": {
             "colorbar": {
              "outlinewidth": 0,
              "ticks": ""
             }
            },
            "type": "scattermapbox"
           }
          ],
          "scatterpolar": [
           {
            "marker": {
             "colorbar": {
              "outlinewidth": 0,
              "ticks": ""
             }
            },
            "type": "scatterpolar"
           }
          ],
          "scatterpolargl": [
           {
            "marker": {
             "colorbar": {
              "outlinewidth": 0,
              "ticks": ""
             }
            },
            "type": "scatterpolargl"
           }
          ],
          "scatterternary": [
           {
            "marker": {
             "colorbar": {
              "outlinewidth": 0,
              "ticks": ""
             }
            },
            "type": "scatterternary"
           }
          ],
          "surface": [
           {
            "colorbar": {
             "outlinewidth": 0,
             "ticks": ""
            },
            "colorscale": [
             [
              0,
              "#0d0887"
             ],
             [
              0.1111111111111111,
              "#46039f"
             ],
             [
              0.2222222222222222,
              "#7201a8"
             ],
             [
              0.3333333333333333,
              "#9c179e"
             ],
             [
              0.4444444444444444,
              "#bd3786"
             ],
             [
              0.5555555555555556,
              "#d8576b"
             ],
             [
              0.6666666666666666,
              "#ed7953"
             ],
             [
              0.7777777777777778,
              "#fb9f3a"
             ],
             [
              0.8888888888888888,
              "#fdca26"
             ],
             [
              1,
              "#f0f921"
             ]
            ],
            "type": "surface"
           }
          ],
          "table": [
           {
            "cells": {
             "fill": {
              "color": "#EBF0F8"
             },
             "line": {
              "color": "white"
             }
            },
            "header": {
             "fill": {
              "color": "#C8D4E3"
             },
             "line": {
              "color": "white"
             }
            },
            "type": "table"
           }
          ]
         },
         "layout": {
          "annotationdefaults": {
           "arrowcolor": "#2a3f5f",
           "arrowhead": 0,
           "arrowwidth": 1
          },
          "coloraxis": {
           "colorbar": {
            "outlinewidth": 0,
            "ticks": ""
           }
          },
          "colorscale": {
           "diverging": [
            [
             0,
             "#8e0152"
            ],
            [
             0.1,
             "#c51b7d"
            ],
            [
             0.2,
             "#de77ae"
            ],
            [
             0.3,
             "#f1b6da"
            ],
            [
             0.4,
             "#fde0ef"
            ],
            [
             0.5,
             "#f7f7f7"
            ],
            [
             0.6,
             "#e6f5d0"
            ],
            [
             0.7,
             "#b8e186"
            ],
            [
             0.8,
             "#7fbc41"
            ],
            [
             0.9,
             "#4d9221"
            ],
            [
             1,
             "#276419"
            ]
           ],
           "sequential": [
            [
             0,
             "#0d0887"
            ],
            [
             0.1111111111111111,
             "#46039f"
            ],
            [
             0.2222222222222222,
             "#7201a8"
            ],
            [
             0.3333333333333333,
             "#9c179e"
            ],
            [
             0.4444444444444444,
             "#bd3786"
            ],
            [
             0.5555555555555556,
             "#d8576b"
            ],
            [
             0.6666666666666666,
             "#ed7953"
            ],
            [
             0.7777777777777778,
             "#fb9f3a"
            ],
            [
             0.8888888888888888,
             "#fdca26"
            ],
            [
             1,
             "#f0f921"
            ]
           ],
           "sequentialminus": [
            [
             0,
             "#0d0887"
            ],
            [
             0.1111111111111111,
             "#46039f"
            ],
            [
             0.2222222222222222,
             "#7201a8"
            ],
            [
             0.3333333333333333,
             "#9c179e"
            ],
            [
             0.4444444444444444,
             "#bd3786"
            ],
            [
             0.5555555555555556,
             "#d8576b"
            ],
            [
             0.6666666666666666,
             "#ed7953"
            ],
            [
             0.7777777777777778,
             "#fb9f3a"
            ],
            [
             0.8888888888888888,
             "#fdca26"
            ],
            [
             1,
             "#f0f921"
            ]
           ]
          },
          "colorway": [
           "#636efa",
           "#EF553B",
           "#00cc96",
           "#ab63fa",
           "#FFA15A",
           "#19d3f3",
           "#FF6692",
           "#B6E880",
           "#FF97FF",
           "#FECB52"
          ],
          "font": {
           "color": "#2a3f5f"
          },
          "geo": {
           "bgcolor": "white",
           "lakecolor": "white",
           "landcolor": "#E5ECF6",
           "showlakes": true,
           "showland": true,
           "subunitcolor": "white"
          },
          "hoverlabel": {
           "align": "left"
          },
          "hovermode": "closest",
          "mapbox": {
           "style": "light"
          },
          "paper_bgcolor": "white",
          "plot_bgcolor": "#E5ECF6",
          "polar": {
           "angularaxis": {
            "gridcolor": "white",
            "linecolor": "white",
            "ticks": ""
           },
           "bgcolor": "#E5ECF6",
           "radialaxis": {
            "gridcolor": "white",
            "linecolor": "white",
            "ticks": ""
           }
          },
          "scene": {
           "xaxis": {
            "backgroundcolor": "#E5ECF6",
            "gridcolor": "white",
            "gridwidth": 2,
            "linecolor": "white",
            "showbackground": true,
            "ticks": "",
            "zerolinecolor": "white"
           },
           "yaxis": {
            "backgroundcolor": "#E5ECF6",
            "gridcolor": "white",
            "gridwidth": 2,
            "linecolor": "white",
            "showbackground": true,
            "ticks": "",
            "zerolinecolor": "white"
           },
           "zaxis": {
            "backgroundcolor": "#E5ECF6",
            "gridcolor": "white",
            "gridwidth": 2,
            "linecolor": "white",
            "showbackground": true,
            "ticks": "",
            "zerolinecolor": "white"
           }
          },
          "shapedefaults": {
           "line": {
            "color": "#2a3f5f"
           }
          },
          "ternary": {
           "aaxis": {
            "gridcolor": "white",
            "linecolor": "white",
            "ticks": ""
           },
           "baxis": {
            "gridcolor": "white",
            "linecolor": "white",
            "ticks": ""
           },
           "bgcolor": "#E5ECF6",
           "caxis": {
            "gridcolor": "white",
            "linecolor": "white",
            "ticks": ""
           }
          },
          "title": {
           "x": 0.05
          },
          "xaxis": {
           "automargin": true,
           "gridcolor": "white",
           "linecolor": "white",
           "ticks": "",
           "title": {
            "standoff": 15
           },
           "zerolinecolor": "white",
           "zerolinewidth": 2
          },
          "yaxis": {
           "automargin": true,
           "gridcolor": "white",
           "linecolor": "white",
           "ticks": "",
           "title": {
            "standoff": 15
           },
           "zerolinecolor": "white",
           "zerolinewidth": 2
          }
         }
        },
        "title": {
         "font": {
          "size": 16
         },
         "text": "<br>ESG KG"
        },
        "xaxis": {
         "showgrid": false,
         "showticklabels": false,
         "zeroline": false
        },
        "yaxis": {
         "showgrid": false,
         "showticklabels": false,
         "zeroline": false
        }
       }
      },
      "text/html": [
       "<div>                            <div id=\"c0fa5b5d-9307-43cc-bae3-7ee2c031ee69\" class=\"plotly-graph-div\" style=\"height:525px; width:100%;\"></div>            <script type=\"text/javascript\">                require([\"plotly\"], function(Plotly) {                    window.PLOTLYENV=window.PLOTLYENV || {};                                    if (document.getElementById(\"c0fa5b5d-9307-43cc-bae3-7ee2c031ee69\")) {                    Plotly.newPlot(                        \"c0fa5b5d-9307-43cc-bae3-7ee2c031ee69\",                        [{\"hoverinfo\": \"none\", \"line\": {\"color\": \"#888\", \"width\": 0.5}, \"mode\": \"lines\", \"type\": \"scatter\", \"x\": [0.28667680386508715, 0.08051593860055438, null, 0.28667680386508715, 0.539755432396184, null, -0.5005014592811874, -0.278502008386485, null, -0.5005014592811874, -0.672775716573501, null, -0.5005014592811874, -0.3404970563751674, null, 0.5686823370996574, 0.32362412532830065, null, 0.5686823370996574, 0.539755432396184, null, -0.12151261565603969, -0.278502008386485, null, -0.12151261565603969, -0.3404970563751674, null, 0.11453421898259714, 0.08051593860055438, null, 0.11453421898259714, 0.32362412532830065, null], \"y\": [0.508723852709649, 0.6748060637257134, null, 0.508723852709649, 0.5284816874654206, null, -0.8050951020745298, -0.8033541638479181, null, -0.8050951020745298, -0.6139292078366476, null, -0.8050951020745298, -1.0, null, 0.7439608642540468, 0.7930864316308612, null, 0.7439608642540468, 0.5284816874654206, null, -0.9246780897771264, -0.8033541638479181, null, -0.9246780897771264, -1.0, null, 0.8979976637505312, 0.6748060637257134, null, 0.8979976637505312, 0.7930864316308612, null]}, {\"hoverinfo\": \"text\", \"marker\": {\"color\": [-78, 72, 72, 72, -28, 72, 72, 72, -28, 72, 72], \"colorbar\": {\"thickness\": 10, \"title\": {\"side\": \"right\", \"text\": \"Sentiment Range\"}, \"xanchor\": \"left\"}, \"colorscale\": [[0, \"rgb(227,26,28)\"], [0.5, \"rgb(250,250,250)\"], [1, \"rgb(51,160,44)\"]], \"line\": {\"color\": \"black\", \"width\": 2}, \"reversescale\": false, \"showscale\": true, \"size\": [16, 19, 16, 13, 16, 16, 16, 16, 16, 16, 16], \"symbol\": [0, 0, 0, 5, 5, 3, 4, 1, 1, 1, 1]}, \"mode\": \"markers\", \"text\": [\"Apple Inc # of connections: 2\", \"BOMBARDIER INC-A # of connections: 3\", \"INTL BUSINESS MACHINES CORP # of connections: 2\", \"Industrials # of connections: 1\", \"Technology # of connections: 2\", \"Environment - Energy Management - SASB # of connections: 2\", \"Social - Data Security - SASB # of connections: 2\", \"Bombardiers joint venture wins contract to build 160 new Chinese standard high-speed train cars Toronto Stock Exchange:BBD.A # of connections: 2\", \"How To: Jailbreak Any iPhone, iPod Touch or iPad # of connections: 2\", \"Print - Bombardiers joint venture wins contract to build 160 new Chinese standard high-speed train cars # of connections: 2\", \"Tech Chiefs Plan to Boost Cybersecurity Spending # of connections: 2\"], \"type\": \"scatter\", \"x\": [0.28667680386508715, -0.5005014592811874, 0.5686823370996574, -0.672775716573501, 0.539755432396184, -0.12151261565603969, 0.11453421898259714, -0.3404970563751674, 0.08051593860055438, -0.278502008386485, 0.32362412532830065], \"y\": [0.508723852709649, -0.8050951020745298, 0.7439608642540468, -0.6139292078366476, 0.5284816874654206, -0.9246780897771264, 0.8979976637505312, -1.0, 0.6748060637257134, -0.8033541638479181, 0.7930864316308612]}],                        {\"annotations\": [{\"showarrow\": false, \"text\": \"Hello ESG Analyst? How you doing?\", \"xref\": \"paper\", \"yref\": \"paper\"}], \"hovermode\": \"closest\", \"margin\": {\"b\": 20, \"l\": 5, \"r\": 5, \"t\": 40}, \"showlegend\": false, \"template\": {\"data\": {\"bar\": [{\"error_x\": {\"color\": \"#2a3f5f\"}, \"error_y\": {\"color\": \"#2a3f5f\"}, \"marker\": {\"line\": {\"color\": \"#E5ECF6\", \"width\": 0.5}}, \"type\": \"bar\"}], \"barpolar\": [{\"marker\": {\"line\": {\"color\": \"#E5ECF6\", \"width\": 0.5}}, \"type\": \"barpolar\"}], \"carpet\": [{\"aaxis\": {\"endlinecolor\": \"#2a3f5f\", \"gridcolor\": \"white\", \"linecolor\": \"white\", \"minorgridcolor\": \"white\", \"startlinecolor\": \"#2a3f5f\"}, \"baxis\": {\"endlinecolor\": \"#2a3f5f\", \"gridcolor\": \"white\", \"linecolor\": \"white\", \"minorgridcolor\": \"white\", \"startlinecolor\": \"#2a3f5f\"}, \"type\": \"carpet\"}], \"choropleth\": [{\"colorbar\": {\"outlinewidth\": 0, \"ticks\": \"\"}, \"type\": \"choropleth\"}], \"contour\": [{\"colorbar\": {\"outlinewidth\": 0, \"ticks\": \"\"}, \"colorscale\": [[0.0, \"#0d0887\"], [0.1111111111111111, \"#46039f\"], [0.2222222222222222, \"#7201a8\"], [0.3333333333333333, \"#9c179e\"], [0.4444444444444444, \"#bd3786\"], [0.5555555555555556, \"#d8576b\"], [0.6666666666666666, \"#ed7953\"], [0.7777777777777778, \"#fb9f3a\"], [0.8888888888888888, \"#fdca26\"], [1.0, \"#f0f921\"]], \"type\": \"contour\"}], \"contourcarpet\": [{\"colorbar\": {\"outlinewidth\": 0, \"ticks\": \"\"}, \"type\": \"contourcarpet\"}], \"heatmap\": [{\"colorbar\": {\"outlinewidth\": 0, \"ticks\": \"\"}, \"colorscale\": [[0.0, \"#0d0887\"], [0.1111111111111111, \"#46039f\"], [0.2222222222222222, \"#7201a8\"], [0.3333333333333333, \"#9c179e\"], [0.4444444444444444, \"#bd3786\"], [0.5555555555555556, \"#d8576b\"], [0.6666666666666666, \"#ed7953\"], [0.7777777777777778, \"#fb9f3a\"], [0.8888888888888888, \"#fdca26\"], [1.0, \"#f0f921\"]], \"type\": \"heatmap\"}], \"heatmapgl\": [{\"colorbar\": {\"outlinewidth\": 0, \"ticks\": \"\"}, \"colorscale\": [[0.0, \"#0d0887\"], [0.1111111111111111, \"#46039f\"], [0.2222222222222222, \"#7201a8\"], [0.3333333333333333, \"#9c179e\"], [0.4444444444444444, \"#bd3786\"], [0.5555555555555556, \"#d8576b\"], [0.6666666666666666, \"#ed7953\"], [0.7777777777777778, \"#fb9f3a\"], [0.8888888888888888, \"#fdca26\"], [1.0, \"#f0f921\"]], \"type\": \"heatmapgl\"}], \"histogram\": [{\"marker\": {\"colorbar\": {\"outlinewidth\": 0, \"ticks\": \"\"}}, \"type\": \"histogram\"}], \"histogram2d\": [{\"colorbar\": {\"outlinewidth\": 0, \"ticks\": \"\"}, \"colorscale\": [[0.0, \"#0d0887\"], [0.1111111111111111, \"#46039f\"], [0.2222222222222222, \"#7201a8\"], [0.3333333333333333, \"#9c179e\"], [0.4444444444444444, \"#bd3786\"], [0.5555555555555556, \"#d8576b\"], [0.6666666666666666, \"#ed7953\"], [0.7777777777777778, \"#fb9f3a\"], [0.8888888888888888, \"#fdca26\"], [1.0, \"#f0f921\"]], \"type\": \"histogram2d\"}], \"histogram2dcontour\": [{\"colorbar\": {\"outlinewidth\": 0, \"ticks\": \"\"}, \"colorscale\": [[0.0, \"#0d0887\"], [0.1111111111111111, \"#46039f\"], [0.2222222222222222, \"#7201a8\"], [0.3333333333333333, \"#9c179e\"], [0.4444444444444444, \"#bd3786\"], [0.5555555555555556, \"#d8576b\"], [0.6666666666666666, \"#ed7953\"], [0.7777777777777778, \"#fb9f3a\"], [0.8888888888888888, \"#fdca26\"], [1.0, \"#f0f921\"]], \"type\": \"histogram2dcontour\"}], \"mesh3d\": [{\"colorbar\": {\"outlinewidth\": 0, \"ticks\": \"\"}, \"type\": \"mesh3d\"}], \"parcoords\": [{\"line\": {\"colorbar\": {\"outlinewidth\": 0, \"ticks\": \"\"}}, \"type\": \"parcoords\"}], \"pie\": [{\"automargin\": true, \"type\": \"pie\"}], \"scatter\": [{\"marker\": {\"colorbar\": {\"outlinewidth\": 0, \"ticks\": \"\"}}, \"type\": \"scatter\"}], \"scatter3d\": [{\"line\": {\"colorbar\": {\"outlinewidth\": 0, \"ticks\": \"\"}}, \"marker\": {\"colorbar\": {\"outlinewidth\": 0, \"ticks\": \"\"}}, \"type\": \"scatter3d\"}], \"scattercarpet\": [{\"marker\": {\"colorbar\": {\"outlinewidth\": 0, \"ticks\": \"\"}}, \"type\": \"scattercarpet\"}], \"scattergeo\": [{\"marker\": {\"colorbar\": {\"outlinewidth\": 0, \"ticks\": \"\"}}, \"type\": \"scattergeo\"}], \"scattergl\": [{\"marker\": {\"colorbar\": {\"outlinewidth\": 0, \"ticks\": \"\"}}, \"type\": \"scattergl\"}], \"scattermapbox\": [{\"marker\": {\"colorbar\": {\"outlinewidth\": 0, \"ticks\": \"\"}}, \"type\": \"scattermapbox\"}], \"scatterpolar\": [{\"marker\": {\"colorbar\": {\"outlinewidth\": 0, \"ticks\": \"\"}}, \"type\": \"scatterpolar\"}], \"scatterpolargl\": [{\"marker\": {\"colorbar\": {\"outlinewidth\": 0, \"ticks\": \"\"}}, \"type\": \"scatterpolargl\"}], \"scatterternary\": [{\"marker\": {\"colorbar\": {\"outlinewidth\": 0, \"ticks\": \"\"}}, \"type\": \"scatterternary\"}], \"surface\": [{\"colorbar\": {\"outlinewidth\": 0, \"ticks\": \"\"}, \"colorscale\": [[0.0, \"#0d0887\"], [0.1111111111111111, \"#46039f\"], [0.2222222222222222, \"#7201a8\"], [0.3333333333333333, \"#9c179e\"], [0.4444444444444444, \"#bd3786\"], [0.5555555555555556, \"#d8576b\"], [0.6666666666666666, \"#ed7953\"], [0.7777777777777778, \"#fb9f3a\"], [0.8888888888888888, \"#fdca26\"], [1.0, \"#f0f921\"]], \"type\": \"surface\"}], \"table\": [{\"cells\": {\"fill\": {\"color\": \"#EBF0F8\"}, \"line\": {\"color\": \"white\"}}, \"header\": {\"fill\": {\"color\": \"#C8D4E3\"}, \"line\": {\"color\": \"white\"}}, \"type\": \"table\"}]}, \"layout\": {\"annotationdefaults\": {\"arrowcolor\": \"#2a3f5f\", \"arrowhead\": 0, \"arrowwidth\": 1}, \"coloraxis\": {\"colorbar\": {\"outlinewidth\": 0, \"ticks\": \"\"}}, \"colorscale\": {\"diverging\": [[0, \"#8e0152\"], [0.1, \"#c51b7d\"], [0.2, \"#de77ae\"], [0.3, \"#f1b6da\"], [0.4, \"#fde0ef\"], [0.5, \"#f7f7f7\"], [0.6, \"#e6f5d0\"], [0.7, \"#b8e186\"], [0.8, \"#7fbc41\"], [0.9, \"#4d9221\"], [1, \"#276419\"]], \"sequential\": [[0.0, \"#0d0887\"], [0.1111111111111111, \"#46039f\"], [0.2222222222222222, \"#7201a8\"], [0.3333333333333333, \"#9c179e\"], [0.4444444444444444, \"#bd3786\"], [0.5555555555555556, \"#d8576b\"], [0.6666666666666666, \"#ed7953\"], [0.7777777777777778, \"#fb9f3a\"], [0.8888888888888888, \"#fdca26\"], [1.0, \"#f0f921\"]], \"sequentialminus\": [[0.0, \"#0d0887\"], [0.1111111111111111, \"#46039f\"], [0.2222222222222222, \"#7201a8\"], [0.3333333333333333, \"#9c179e\"], [0.4444444444444444, \"#bd3786\"], [0.5555555555555556, \"#d8576b\"], [0.6666666666666666, \"#ed7953\"], [0.7777777777777778, \"#fb9f3a\"], [0.8888888888888888, \"#fdca26\"], [1.0, \"#f0f921\"]]}, \"colorway\": [\"#636efa\", \"#EF553B\", \"#00cc96\", \"#ab63fa\", \"#FFA15A\", \"#19d3f3\", \"#FF6692\", \"#B6E880\", \"#FF97FF\", \"#FECB52\"], \"font\": {\"color\": \"#2a3f5f\"}, \"geo\": {\"bgcolor\": \"white\", \"lakecolor\": \"white\", \"landcolor\": \"#E5ECF6\", \"showlakes\": true, \"showland\": true, \"subunitcolor\": \"white\"}, \"hoverlabel\": {\"align\": \"left\"}, \"hovermode\": \"closest\", \"mapbox\": {\"style\": \"light\"}, \"paper_bgcolor\": \"white\", \"plot_bgcolor\": \"#E5ECF6\", \"polar\": {\"angularaxis\": {\"gridcolor\": \"white\", \"linecolor\": \"white\", \"ticks\": \"\"}, \"bgcolor\": \"#E5ECF6\", \"radialaxis\": {\"gridcolor\": \"white\", \"linecolor\": \"white\", \"ticks\": \"\"}}, \"scene\": {\"xaxis\": {\"backgroundcolor\": \"#E5ECF6\", \"gridcolor\": \"white\", \"gridwidth\": 2, \"linecolor\": \"white\", \"showbackground\": true, \"ticks\": \"\", \"zerolinecolor\": \"white\"}, \"yaxis\": {\"backgroundcolor\": \"#E5ECF6\", \"gridcolor\": \"white\", \"gridwidth\": 2, \"linecolor\": \"white\", \"showbackground\": true, \"ticks\": \"\", \"zerolinecolor\": \"white\"}, \"zaxis\": {\"backgroundcolor\": \"#E5ECF6\", \"gridcolor\": \"white\", \"gridwidth\": 2, \"linecolor\": \"white\", \"showbackground\": true, \"ticks\": \"\", \"zerolinecolor\": \"white\"}}, \"shapedefaults\": {\"line\": {\"color\": \"#2a3f5f\"}}, \"ternary\": {\"aaxis\": {\"gridcolor\": \"white\", \"linecolor\": \"white\", \"ticks\": \"\"}, \"baxis\": {\"gridcolor\": \"white\", \"linecolor\": \"white\", \"ticks\": \"\"}, \"bgcolor\": \"#E5ECF6\", \"caxis\": {\"gridcolor\": \"white\", \"linecolor\": \"white\", \"ticks\": \"\"}}, \"title\": {\"x\": 0.05}, \"xaxis\": {\"automargin\": true, \"gridcolor\": \"white\", \"linecolor\": \"white\", \"ticks\": \"\", \"title\": {\"standoff\": 15}, \"zerolinecolor\": \"white\", \"zerolinewidth\": 2}, \"yaxis\": {\"automargin\": true, \"gridcolor\": \"white\", \"linecolor\": \"white\", \"ticks\": \"\", \"title\": {\"standoff\": 15}, \"zerolinecolor\": \"white\", \"zerolinewidth\": 2}}}, \"title\": {\"font\": {\"size\": 16}, \"text\": \"<br>ESG KG\"}, \"xaxis\": {\"showgrid\": false, \"showticklabels\": false, \"zeroline\": false}, \"yaxis\": {\"showgrid\": false, \"showticklabels\": false, \"zeroline\": false}},                        {\"responsive\": true}                    ).then(function(){\n",
       "                            \n",
       "var gd = document.getElementById('c0fa5b5d-9307-43cc-bae3-7ee2c031ee69');\n",
       "var x = new MutationObserver(function (mutations, observer) {{\n",
       "        var display = window.getComputedStyle(gd).display;\n",
       "        if (!display || display === 'none') {{\n",
       "            console.log([gd, 'removed!']);\n",
       "            Plotly.purge(gd);\n",
       "            observer.disconnect();\n",
       "        }}\n",
       "}});\n",
       "\n",
       "// Listen for the removal of the full notebook cells\n",
       "var notebookContainer = gd.closest('#notebook-container');\n",
       "if (notebookContainer) {{\n",
       "    x.observe(notebookContainer, {childList: true});\n",
       "}}\n",
       "\n",
       "// Listen for the clearing of the current output cell\n",
       "var outputEl = gd.closest('.output');\n",
       "if (outputEl) {{\n",
       "    x.observe(outputEl, {childList: true});\n",
       "}}\n",
       "\n",
       "                        })                };                });            </script>        </div>"
      ]
     },
     "metadata": {},
     "output_type": "display_data"
    }
   ],
   "source": [
    "fig = go.Figure(data=[edge_trace, node_trace],\n",
    "             layout=go.Layout(\n",
    "                title='<br>ESG KG',\n",
    "                titlefont=dict(size=16),\n",
    "                showlegend=False,\n",
    "                hovermode='closest',\n",
    "                margin=dict(b=20,l=5,r=5,t=40),\n",
    "                annotations=[ dict(\n",
    "                    text=\"Hello ESG Analyst? How you doing?\",\n",
    "                    showarrow=False,\n",
    "                    xref=\"paper\", yref=\"paper\") ],\n",
    "                xaxis=dict(showgrid=False, zeroline=False, showticklabels=False),\n",
    "                yaxis=dict(showgrid=False, zeroline=False, showticklabels=False)))\n",
    "\n",
    "iplot(fig)"
   ]
  },
  {
   "cell_type": "code",
   "execution_count": 170,
   "metadata": {},
   "outputs": [
    {
     "name": "stdout",
     "output_type": "stream",
     "text": [
      "Nodes to be shown = 11 \n",
      " > entity_name: 3 \n",
      " > entity_sector: 2 \n",
      " > event_group: 2 \n",
      " > doc_title: 4\n"
     ]
    },
    {
     "data": {
      "text/html": [
       "<div>\n",
       "<style scoped>\n",
       "    .dataframe tbody tr th:only-of-type {\n",
       "        vertical-align: middle;\n",
       "    }\n",
       "\n",
       "    .dataframe tbody tr th {\n",
       "        vertical-align: top;\n",
       "    }\n",
       "\n",
       "    .dataframe thead th {\n",
       "        text-align: right;\n",
       "    }\n",
       "</style>\n",
       "<table border=\"1\" class=\"dataframe\">\n",
       "  <thead>\n",
       "    <tr style=\"text-align: right;\">\n",
       "      <th></th>\n",
       "      <th>entity_name</th>\n",
       "      <th>entity_sector</th>\n",
       "      <th>event_group</th>\n",
       "      <th>event</th>\n",
       "      <th>doc_title</th>\n",
       "    </tr>\n",
       "  </thead>\n",
       "  <tbody>\n",
       "    <tr>\n",
       "      <th>0</th>\n",
       "      <td>BOMBARDIER INC-A</td>\n",
       "      <td>Industrials</td>\n",
       "      <td>Environment</td>\n",
       "      <td>Environment - Energy Management - SASB</td>\n",
       "      <td>Print - Bombardiers joint venture wins contrac...</td>\n",
       "    </tr>\n",
       "    <tr>\n",
       "      <th>1</th>\n",
       "      <td>BOMBARDIER INC-A</td>\n",
       "      <td>Industrials</td>\n",
       "      <td>Environment</td>\n",
       "      <td>Environment - Energy Management - SASB</td>\n",
       "      <td>Bombardiers joint venture wins contract to bui...</td>\n",
       "    </tr>\n",
       "    <tr>\n",
       "      <th>2</th>\n",
       "      <td>Apple Inc</td>\n",
       "      <td>Technology</td>\n",
       "      <td>Social</td>\n",
       "      <td>Social - Data Security - SASB</td>\n",
       "      <td>How To: Jailbreak Any iPhone, iPod Touch or iPad</td>\n",
       "    </tr>\n",
       "    <tr>\n",
       "      <th>3</th>\n",
       "      <td>INTL BUSINESS MACHINES CORP</td>\n",
       "      <td>Technology</td>\n",
       "      <td>Social</td>\n",
       "      <td>Social - Data Security - SASB</td>\n",
       "      <td>Tech Chiefs Plan to Boost Cybersecurity Spending</td>\n",
       "    </tr>\n",
       "  </tbody>\n",
       "</table>\n",
       "</div>"
      ],
      "text/plain": [
       "                   entity_name entity_sector  event_group  \\\n",
       "0             BOMBARDIER INC-A   Industrials  Environment   \n",
       "1             BOMBARDIER INC-A   Industrials  Environment   \n",
       "2                    Apple Inc    Technology       Social   \n",
       "3  INTL BUSINESS MACHINES CORP    Technology       Social   \n",
       "\n",
       "                                    event  \\\n",
       "0  Environment - Energy Management - SASB   \n",
       "1  Environment - Energy Management - SASB   \n",
       "2           Social - Data Security - SASB   \n",
       "3           Social - Data Security - SASB   \n",
       "\n",
       "                                           doc_title  \n",
       "0  Print - Bombardiers joint venture wins contrac...  \n",
       "1  Bombardiers joint venture wins contract to bui...  \n",
       "2   How To: Jailbreak Any iPhone, iPod Touch or iPad  \n",
       "3   Tech Chiefs Plan to Boost Cybersecurity Spending  "
      ]
     },
     "execution_count": 170,
     "metadata": {},
     "output_type": "execute_result"
    }
   ],
   "source": [
    "print(\"Nodes to be shown =\", temp_data.entity_name.nunique()+temp_data.entity_sector.nunique()+temp_data.event.nunique()+temp_data.doc_title.nunique(),\n",
    "      \"\\n > entity_name:\", temp_data.entity_name.nunique()\n",
    "     ,\"\\n > entity_sector:\", temp_data.entity_sector.nunique()\n",
    "     ,\"\\n > event_group:\", temp_data.event_group.nunique()\n",
    "     ,\"\\n > doc_title:\", temp_data.doc_title.nunique())\n",
    "\n",
    "\n",
    "temp_data[[\"entity_name\", \"entity_sector\",\"event_group\",\"event\",\"doc_title\"]]"
   ]
  }
 ],
 "metadata": {
  "kernelspec": {
   "display_name": "Python 3",
   "language": "python",
   "name": "python3"
  },
  "language_info": {
   "codemirror_mode": {
    "name": "ipython",
    "version": 3
   },
   "file_extension": ".py",
   "mimetype": "text/x-python",
   "name": "python",
   "nbconvert_exporter": "python",
   "pygments_lexer": "ipython3",
   "version": "3.8.3"
  }
 },
 "nbformat": 4,
 "nbformat_minor": 4
}
